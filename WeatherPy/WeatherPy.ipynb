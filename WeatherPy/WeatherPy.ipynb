{
 "cells": [
  {
   "cell_type": "code",
   "execution_count": 1,
   "metadata": {},
   "outputs": [],
   "source": [
    "# Dependencies and Setup\n",
    "import matplotlib.pyplot as plt\n",
    "import pandas as pd\n",
    "import numpy as np\n",
    "import requests\n",
    "import time\n",
    "from scipy.stats import linregress\n",
    "\n",
    "\n",
    "# Import API key\n",
    "from api_keys import weather_api_key\n",
    "\n",
    "# Incorporated citipy to determine city based on latitude and longitude\n",
    "from citipy import citipy\n",
    "\n",
    "# Output File (CSV)\n",
    "output_data_file = \"output_data/cities.csv\"\n",
    "\n",
    "# Range of latitudes and longitudes\n",
    "lat_range = (-90, 90)\n",
    "lng_range = (-180, 180)"
   ]
  },
  {
   "cell_type": "code",
   "execution_count": 2,
   "metadata": {},
   "outputs": [
    {
     "data": {
      "text/plain": [
       "617"
      ]
     },
     "execution_count": 2,
     "metadata": {},
     "output_type": "execute_result"
    }
   ],
   "source": [
    "# List for holding lat_lngs and cities\n",
    "lat_lngs = []\n",
    "cities = []\n",
    "\n",
    "# Create a set of random lat and lng combinations\n",
    "lats = np.random.uniform(low=-90.000, high=90.000, size=1500)\n",
    "lngs = np.random.uniform(low=-180.000, high=180.000, size=1500)\n",
    "lat_lngs = zip(lats, lngs)\n",
    "\n",
    "# Identify nearest city for each lat, lng combination\n",
    "for lat_lng in lat_lngs:\n",
    "    city = citipy.nearest_city(lat_lng[0], lat_lng[1]).city_name\n",
    "    \n",
    "    \n",
    "    # If the city is unique, then add it to a our cities list\n",
    "    if city not in cities:\n",
    "        cities.append(city)\n",
    "\n",
    "# Print the city count to confirm sufficient count\n",
    "len(cities)"
   ]
  },
  {
   "cell_type": "code",
   "execution_count": 3,
   "metadata": {},
   "outputs": [],
   "source": [
    "url_two = \"http://api.openweathermap.org/data/2.5/weather?units=Imperial&APPID=\" + weather_api_key"
   ]
  },
  {
   "cell_type": "code",
   "execution_count": 4,
   "metadata": {},
   "outputs": [
    {
     "name": "stdout",
     "output_type": "stream",
     "text": [
      "http://api.openweathermap.org/data/2.5/weather?units=Imperial&APPID=018202ce994fe151514b7236daca8402&q=luderitz\n"
     ]
    }
   ],
   "source": [
    "query_url_two = (f\"{url_two}&q={city}\")\n",
    "print(query_url_two)"
   ]
  },
  {
   "cell_type": "code",
   "execution_count": 5,
   "metadata": {},
   "outputs": [
    {
     "name": "stdout",
     "output_type": "stream",
     "text": [
      "Beginning Data Retrieval\n",
      "--------------------------------\n",
      "Processing Record 1 | Hong Kong\n",
      "Processing Record 2 | Punta Arenas\n",
      "Processing Record 3 | Yellowknife\n",
      "Processing Record 4 | Thompson\n",
      "Processing Record 5 | Rome\n",
      "Processing Record 6 | Mataura\n",
      "Processing Record 7 | Bambous Virieux\n",
      "Processing Record 8 | Qaanaaq\n",
      "Processing Record 9 | Batagay-Alyta\n",
      "Processing Record 10 | Ibra\n",
      "Processing Record 11 | Varzea Grande\n",
      "Processing Record 12 | Upernavik\n",
      "City not found. Skipping...\n",
      "Processing Record 13 | Liverpool\n",
      "Processing Record 14 | Caramay\n",
      "Processing Record 15 | Mazagao\n",
      "Processing Record 16 | Kavieng\n",
      "Processing Record 17 | Mayo\n",
      "Processing Record 18 | Naze\n",
      "Processing Record 19 | Port Alfred\n",
      "Processing Record 20 | Riyadh\n",
      "Processing Record 21 | Ullal\n",
      "Processing Record 22 | Busselton\n",
      "Processing Record 23 | Avarua\n",
      "Processing Record 24 | Mount Gambier\n",
      "City not found. Skipping...\n",
      "City not found. Skipping...\n",
      "Processing Record 25 | Rikitea\n",
      "Processing Record 26 | Evensk\n",
      "Processing Record 27 | Puerto Ayora\n",
      "Processing Record 28 | Esperance\n",
      "Processing Record 29 | Hofn\n",
      "Processing Record 30 | Saint-Philippe\n",
      "Processing Record 31 | Kempsey\n",
      "Processing Record 32 | Atuona\n",
      "Processing Record 33 | Hirara\n",
      "Processing Record 34 | Butaritari\n",
      "Processing Record 35 | Tiksi\n",
      "Processing Record 36 | Manokwari\n",
      "City not found. Skipping...\n",
      "Processing Record 37 | Sao Joao da Barra\n",
      "City not found. Skipping...\n",
      "Processing Record 38 | Arraial do Cabo\n",
      "Processing Record 39 | Panzhihua\n",
      "Processing Record 40 | Bluff\n",
      "Processing Record 41 | Goundi\n",
      "Processing Record 42 | Hithadhoo\n",
      "Processing Record 43 | Ushuaia\n",
      "Processing Record 44 | Iqaluit\n",
      "Processing Record 45 | San Quintin\n",
      "Processing Record 46 | Sao Filipe\n",
      "Processing Record 47 | Cidreira\n",
      "Processing Record 48 | Gwadar\n",
      "Processing Record 49 | Airai\n",
      "Processing Record 50 | George Town\n",
      "Processing Record 51 | Udachny\n",
      "Processing Record 52 | Lagoa\n",
      "Processing Record 53 | Lethem\n",
      "City not found. Skipping...\n",
      "Processing Record 54 | Kiryat Gat\n",
      "Processing Record 55 | Ust-Tsilma\n",
      "Processing Record 56 | Ouahigouya\n",
      "Processing Record 57 | Den Helder\n",
      "Processing Record 58 | Pangody\n",
      "Processing Record 59 | Pokhara\n",
      "Processing Record 60 | Albany\n",
      "Processing Record 61 | Ponta do Sol\n",
      "Processing Record 62 | Fairbanks\n",
      "Processing Record 63 | Katsuura\n",
      "Processing Record 64 | Kapoeta\n",
      "Processing Record 65 | Severo-Kuril'sk\n",
      "Processing Record 66 | Tupik\n",
      "Processing Record 67 | Margate\n",
      "Processing Record 68 | Kiunga\n",
      "Processing Record 69 | Hobyo\n",
      "Processing Record 70 | Luganville\n",
      "Processing Record 71 | Narathiwat\n",
      "Processing Record 72 | Vaini\n",
      "Processing Record 73 | Khatanga\n",
      "Processing Record 74 | Castro\n",
      "Processing Record 75 | Salalah\n",
      "Processing Record 76 | Hervey Bay\n",
      "Processing Record 77 | Gryazovets\n",
      "Processing Record 78 | Chicama\n",
      "Processing Record 79 | Broome\n",
      "Processing Record 80 | Hasaki\n",
      "Processing Record 81 | Kapaa\n",
      "Processing Record 82 | Lompoc\n",
      "Processing Record 83 | Sept-Iles\n",
      "Processing Record 84 | Geraldton\n",
      "Processing Record 85 | Victor Harbor\n",
      "Processing Record 86 | Samarai\n",
      "Processing Record 87 | Tara\n",
      "Processing Record 88 | Ribeira Grande\n",
      "Processing Record 89 | Chui\n",
      "Processing Record 90 | Virginia Beach\n",
      "Processing Record 91 | Barrow\n",
      "Processing Record 92 | Camacha\n",
      "Processing Record 93 | Taoudenni\n",
      "Processing Record 94 | Westport\n",
      "Processing Record 95 | Bredasdorp\n",
      "Processing Record 96 | Cape Town\n",
      "Processing Record 97 | Mapiripan\n",
      "Processing Record 98 | Jamestown\n",
      "Processing Record 99 | Aleksandrovsk-Sakhalinskiy\n",
      "City not found. Skipping...\n",
      "City not found. Skipping...\n",
      "Processing Record 100 | Vicuna\n",
      "Processing Record 101 | Tasiilaq\n",
      "Processing Record 102 | Stornoway\n",
      "Processing Record 103 | Longyearbyen\n",
      "City not found. Skipping...\n",
      "Processing Record 104 | Saint-Joseph\n",
      "Processing Record 105 | Codrington\n",
      "Processing Record 106 | Ilulissat\n",
      "City not found. Skipping...\n",
      "Processing Record 107 | Saskylakh\n",
      "Processing Record 108 | Tuktoyaktuk\n",
      "Processing Record 109 | Alexandria\n",
      "Processing Record 110 | Marana\n",
      "City not found. Skipping...\n",
      "Processing Record 111 | Avanuorri\n",
      "City not found. Skipping...\n",
      "Processing Record 112 | Teluknaga\n",
      "Processing Record 113 | Port Elizabeth\n",
      "Processing Record 114 | New Norfolk\n",
      "Processing Record 115 | Palmer\n",
      "Processing Record 116 | Grindavik\n",
      "Processing Record 117 | Vrangel\n",
      "Processing Record 118 | Nome\n",
      "Processing Record 119 | Vila Velha\n",
      "Processing Record 120 | Lakota\n",
      "Processing Record 121 | Longhua\n",
      "City not found. Skipping...\n",
      "City not found. Skipping...\n",
      "Processing Record 122 | Logan\n",
      "City not found. Skipping...\n",
      "Processing Record 123 | Lorengau\n",
      "Processing Record 124 | Berlevag\n",
      "Processing Record 125 | Itacoatiara\n",
      "Processing Record 126 | Bonavista\n",
      "Processing Record 127 | Darhan\n",
      "Processing Record 128 | Smirnykh\n",
      "City not found. Skipping...\n",
      "Processing Record 129 | Olafsvik\n",
      "Processing Record 130 | Mount Isa\n",
      "Processing Record 131 | Zboriv\n",
      "Processing Record 132 | Laguna\n",
      "Processing Record 133 | Poum\n",
      "Processing Record 134 | Waipawa\n",
      "Processing Record 135 | Chokurdakh\n",
      "Processing Record 136 | Riviere-au-Renard\n",
      "Processing Record 137 | Mapiri\n",
      "Processing Record 138 | Umm Kaddadah\n",
      "Processing Record 139 | Vardo\n",
      "Processing Record 140 | Okhotsk\n",
      "Processing Record 141 | Sungaipenuh\n",
      "Processing Record 142 | Hermanus\n",
      "Processing Record 143 | Booue\n",
      "City not found. Skipping...\n",
      "Processing Record 144 | Oxford\n",
      "Processing Record 145 | Bonthe\n",
      "Processing Record 146 | Ahipara\n",
      "Processing Record 147 | Mar del Plata\n",
      "Processing Record 148 | Isangel\n",
      "Processing Record 149 | Qandala\n",
      "Processing Record 150 | Souillac\n",
      "Processing Record 151 | Auki\n",
      "Processing Record 152 | Provideniya\n",
      "Processing Record 153 | Lebu\n",
      "Processing Record 154 | Trat\n",
      "Processing Record 155 | Carnarvon\n",
      "Processing Record 156 | Lenoir City\n",
      "Processing Record 157 | Sioux Lookout\n",
      "Processing Record 158 | Kodiak\n",
      "Processing Record 159 | Katherine\n",
      "Processing Record 160 | Hilo\n",
      "Processing Record 161 | Dunedin\n",
      "Processing Record 162 | Wallacetown\n",
      "City not found. Skipping...\n",
      "Processing Record 163 | Norman Wells\n",
      "Processing Record 164 | Dikson\n",
      "Processing Record 165 | Fortuna\n",
      "Processing Record 166 | Bethel\n",
      "Processing Record 167 | Atlantis\n",
      "Processing Record 168 | Sitka\n",
      "Processing Record 169 | Luderitz\n",
      "Processing Record 170 | Kuusamo\n",
      "Processing Record 171 | North Bend\n",
      "Processing Record 172 | Klaksvik\n",
      "Processing Record 173 | Alofi\n",
      "Processing Record 174 | Zverinogolovskoye\n",
      "Processing Record 175 | Doha\n",
      "Processing Record 176 | Kadyy\n",
      "Processing Record 177 | Innisfail\n",
      "Processing Record 178 | Bathsheba\n",
      "Processing Record 179 | Grand Gaube\n",
      "Processing Record 180 | Mikhaylovka\n",
      "Processing Record 181 | Lufilufi\n",
      "Processing Record 182 | Constitucion\n",
      "Processing Record 183 | Torbay\n",
      "Processing Record 184 | Severodvinsk\n",
      "Processing Record 185 | Novyy Urengoy\n",
      "Processing Record 186 | Platteville\n",
      "Processing Record 187 | Kaitangata\n",
      "Processing Record 188 | Asbury Park\n",
      "Processing Record 189 | Hinton\n",
      "Processing Record 190 | Salta\n",
      "Processing Record 191 | Zhalantun\n",
      "Processing Record 192 | Nanortalik\n",
      "Processing Record 193 | Kununurra\n",
      "Processing Record 194 | Novikovo\n",
      "Processing Record 195 | Mandalgovi\n",
      "Processing Record 196 | Saint-Pierre\n",
      "Processing Record 197 | Nioro\n",
      "Processing Record 198 | Aklavik\n",
      "Processing Record 199 | Pandan\n",
      "Processing Record 200 | Baruun-Urt\n",
      "Processing Record 201 | Kasongo-Lunda\n",
      "Processing Record 202 | Limon\n",
      "Processing Record 203 | Cherskiy\n",
      "Processing Record 204 | Bengkulu\n",
      "Processing Record 205 | Baharly\n",
      "Processing Record 206 | Aktash\n",
      "Processing Record 207 | Hobart\n",
      "Processing Record 208 | Tuatapere\n",
      "Processing Record 209 | Valparaiso\n",
      "Processing Record 210 | Mombetsu\n",
      "Processing Record 211 | Skjervoy\n",
      "Processing Record 212 | Along\n",
      "Processing Record 213 | Port Lincoln\n",
      "Processing Record 214 | Pisco\n",
      "Processing Record 215 | Husum\n",
      "Processing Record 216 | Korgen\n",
      "Processing Record 217 | Yasnyy\n",
      "Processing Record 218 | Hurghada\n",
      "Processing Record 219 | Turan\n",
      "Processing Record 220 | Kailua\n",
      "Processing Record 221 | Touros\n",
      "Processing Record 222 | Mogadishu\n",
      "Processing Record 223 | Saint George\n",
      "Processing Record 224 | Urumqi\n",
      "Processing Record 225 | Havre-Saint-Pierre\n",
      "Processing Record 226 | Cayenne\n",
      "Processing Record 227 | Kathmandu\n",
      "Processing Record 228 | Kutum\n",
      "Processing Record 229 | Los Llanos de Aridane\n",
      "Processing Record 230 | Khovd\n",
      "Processing Record 231 | Tullahoma\n",
      "Processing Record 232 | Middelburg\n"
     ]
    },
    {
     "name": "stdout",
     "output_type": "stream",
     "text": [
      "Processing Record 233 | Marawi\n",
      "City not found. Skipping...\n",
      "Processing Record 234 | Luebo\n",
      "Processing Record 235 | Elbistan\n",
      "Processing Record 236 | San Cristobal\n",
      "Processing Record 237 | Boende\n",
      "Processing Record 238 | Isabela\n",
      "City not found. Skipping...\n",
      "Processing Record 239 | Vao\n",
      "Processing Record 240 | Puerto Maldonado\n",
      "City not found. Skipping...\n",
      "Processing Record 241 | Broken Hill\n",
      "Processing Record 242 | Lynn Haven\n",
      "Processing Record 243 | Moerai\n",
      "City not found. Skipping...\n",
      "Processing Record 244 | Luan\n",
      "Processing Record 245 | Haines Junction\n",
      "Processing Record 246 | Lavrentiya\n",
      "City not found. Skipping...\n",
      "Processing Record 247 | Yatou\n",
      "Processing Record 248 | Phonhong\n",
      "Processing Record 249 | Setermoen\n",
      "Processing Record 250 | Birao\n",
      "Processing Record 251 | Massakory\n",
      "City not found. Skipping...\n",
      "Processing Record 252 | Vila Franca do Campo\n",
      "City not found. Skipping...\n",
      "Processing Record 253 | Zhigansk\n",
      "City not found. Skipping...\n",
      "Processing Record 254 | Kalmunai\n",
      "Processing Record 255 | Monrovia\n",
      "Processing Record 256 | Herouville-Saint-Clair\n",
      "Processing Record 257 | Muyezerskiy\n",
      "Processing Record 258 | Guerrero Negro\n",
      "Processing Record 259 | Talnakh\n",
      "Processing Record 260 | Grand Baie\n",
      "Processing Record 261 | Kiama\n",
      "Processing Record 262 | Kwakoa\n",
      "Processing Record 263 | La Mira\n",
      "Processing Record 264 | Ancud\n",
      "Processing Record 265 | Piney Green\n",
      "Processing Record 266 | Villazon\n",
      "Processing Record 267 | Lupac\n",
      "Processing Record 268 | Pala\n",
      "Processing Record 269 | Melbu\n",
      "Processing Record 270 | Kaduqli\n",
      "Processing Record 271 | Biu\n",
      "City not found. Skipping...\n",
      "Processing Record 272 | Forsytheganj\n",
      "Processing Record 273 | Lata\n",
      "Processing Record 274 | Pochutla\n",
      "Processing Record 275 | Saiha\n",
      "Processing Record 276 | Maniitsoq\n",
      "Processing Record 277 | Cockburn Town\n",
      "Processing Record 278 | Chernyshevskiy\n",
      "Processing Record 279 | Cabo San Lucas\n",
      "Processing Record 280 | Roebourne\n",
      "Processing Record 281 | Dingle\n",
      "Processing Record 282 | Aksarka\n",
      "Processing Record 283 | Marsh Harbour\n",
      "Processing Record 284 | Nong Chik\n",
      "Processing Record 285 | Tambun\n",
      "Processing Record 286 | Faanui\n",
      "Processing Record 287 | Veraval\n",
      "City not found. Skipping...\n",
      "Processing Record 288 | Saint-Francois\n",
      "Processing Record 289 | Chimbote\n",
      "City not found. Skipping...\n",
      "Processing Record 290 | Kropotkin\n",
      "Processing Record 291 | Japura\n",
      "Processing Record 292 | Susangerd\n",
      "Processing Record 293 | Coos Bay\n",
      "Processing Record 294 | Teahupoo\n",
      "Processing Record 295 | Kuching\n",
      "Processing Record 296 | Dongzhen\n",
      "Processing Record 297 | East London\n",
      "Processing Record 298 | Manggar\n",
      "City not found. Skipping...\n",
      "Processing Record 299 | Kidal\n",
      "Processing Record 300 | Sabang\n",
      "Processing Record 301 | Saint-Augustin\n",
      "Processing Record 302 | Ust-Nera\n",
      "Processing Record 303 | Bom Jesus\n",
      "Processing Record 304 | Bandarbeyla\n",
      "Processing Record 305 | Soddy-Daisy\n",
      "Processing Record 306 | Jardim\n",
      "Processing Record 307 | Bilibino\n",
      "Processing Record 308 | Tallahassee\n",
      "Processing Record 309 | Correggio\n",
      "Processing Record 310 | Puerto Escondido\n",
      "Processing Record 311 | Dzaoudzi\n",
      "Processing Record 312 | Aguimes\n",
      "Processing Record 313 | Coquimbo\n",
      "Processing Record 314 | Boca do Acre\n",
      "Processing Record 315 | La Asuncion\n",
      "Processing Record 316 | Diffa\n",
      "Processing Record 317 | Kakamega\n",
      "Processing Record 318 | Durango\n",
      "Processing Record 319 | Leningradskiy\n",
      "Processing Record 320 | Iracoubo\n",
      "Processing Record 321 | Sakaiminato\n",
      "Processing Record 322 | Henties Bay\n",
      "Processing Record 323 | Mossamedes\n",
      "Processing Record 324 | Toora-Khem\n",
      "Processing Record 325 | Boyolangu\n",
      "Processing Record 326 | Bac Lieu\n",
      "Processing Record 327 | Manjacaze\n",
      "Processing Record 328 | Quatre Cocos\n",
      "Processing Record 329 | Tevriz\n",
      "Processing Record 330 | Murray Bridge\n",
      "Processing Record 331 | Shawville\n",
      "Processing Record 332 | Port-Gentil\n",
      "Processing Record 333 | Narsaq\n",
      "Processing Record 334 | Ambon\n",
      "Processing Record 335 | Gawler\n",
      "Processing Record 336 | Kuala Terengganu\n",
      "Processing Record 337 | Fare\n",
      "Processing Record 338 | General Roca\n",
      "Processing Record 339 | Kitimat\n",
      "Processing Record 340 | Pevek\n",
      "Processing Record 341 | Carutapera\n",
      "Processing Record 342 | Kinsale\n",
      "City not found. Skipping...\n",
      "Processing Record 343 | Atambua\n",
      "Processing Record 344 | Ulvik\n",
      "Processing Record 345 | Tocopilla\n",
      "Processing Record 346 | Yeppoon\n",
      "Processing Record 347 | Vanderhoof\n",
      "Processing Record 348 | Odesa\n",
      "Processing Record 349 | Duvan\n",
      "Processing Record 350 | Avera\n",
      "Processing Record 351 | Rawlins\n",
      "Processing Record 352 | Philadelphia\n",
      "City not found. Skipping...\n",
      "Processing Record 353 | Melito di Porto Salvo\n",
      "Processing Record 354 | Rio Gallegos\n",
      "Processing Record 355 | Flinders\n",
      "City not found. Skipping...\n",
      "Processing Record 356 | Mujiayingzi\n",
      "Processing Record 357 | Campbeltown\n",
      "Processing Record 358 | Arrondissement de Laon\n",
      "City not found. Skipping...\n",
      "Processing Record 359 | Tsabong\n",
      "City not found. Skipping...\n",
      "Processing Record 360 | Moron\n",
      "Processing Record 361 | Nikolskoye\n",
      "Processing Record 362 | Genhe\n",
      "Processing Record 363 | Muros\n",
      "Processing Record 364 | Joshimath\n",
      "Processing Record 365 | Seoul\n",
      "Processing Record 366 | Qeshm\n",
      "Processing Record 367 | Teguise\n",
      "Processing Record 368 | San Juan\n",
      "Processing Record 369 | Ucluelet\n",
      "Processing Record 370 | High Level\n",
      "Processing Record 371 | Horgos\n",
      "City not found. Skipping...\n",
      "City not found. Skipping...\n",
      "Processing Record 372 | Petropavlovsk-Kamchatsky\n",
      "Processing Record 373 | Jhajjar\n",
      "Processing Record 374 | Nouadhibou\n",
      "Processing Record 375 | Lensk\n",
      "Processing Record 376 | Lewistown\n",
      "Processing Record 377 | Deputatsky\n",
      "Processing Record 378 | Qasigiannguit\n",
      "Processing Record 379 | Tigil\n",
      "Processing Record 380 | Port Pirie\n",
      "Processing Record 381 | Sinnamary\n",
      "City not found. Skipping...\n",
      "Processing Record 382 | Zima\n",
      "City not found. Skipping...\n",
      "Processing Record 383 | Kisanga\n",
      "Processing Record 384 | Biak\n",
      "Processing Record 385 | Seabrook\n",
      "Processing Record 386 | Avinurme\n",
      "Processing Record 387 | Riwaka\n",
      "Processing Record 388 | Viedma\n",
      "Processing Record 389 | Palana\n",
      "Processing Record 390 | Terra Santa\n",
      "Processing Record 391 | El Alto\n",
      "Processing Record 392 | Saint Anthony\n",
      "Processing Record 393 | Sur\n",
      "Processing Record 394 | Novhorodka\n",
      "Processing Record 395 | Flin Flon\n",
      "Processing Record 396 | Liaocheng\n",
      "Processing Record 397 | Bilma\n",
      "Processing Record 398 | Mahebourg\n",
      "Processing Record 399 | Portland\n",
      "Processing Record 400 | Invermere\n",
      "Processing Record 401 | Ratne\n",
      "Processing Record 402 | Kyra\n",
      "Processing Record 403 | Kyenjojo\n",
      "Processing Record 404 | Nieuwpoort\n",
      "Processing Record 405 | Wajir\n",
      "Processing Record 406 | Vestmannaeyjar\n",
      "Processing Record 407 | Fayaoue\n",
      "Processing Record 408 | Zhuhai\n",
      "Processing Record 409 | Buala\n",
      "Processing Record 410 | Comodoro Rivadavia\n",
      "Processing Record 411 | Pimentel\n",
      "Processing Record 412 | Iisalmi\n",
      "Processing Record 413 | Huarmey\n",
      "Processing Record 414 | Sao Jose da Coroa Grande\n",
      "Processing Record 415 | Ifanadiana\n",
      "City not found. Skipping...\n",
      "Processing Record 416 | Sorsk\n",
      "Processing Record 417 | Krasnogvardeyskiy\n",
      "Processing Record 418 | Acajutla\n",
      "Processing Record 419 | Dukat\n",
      "Processing Record 420 | Yar-Sale\n",
      "Processing Record 421 | Hay River\n",
      "Processing Record 422 | Jacareacanga\n",
      "Processing Record 423 | Mattru\n",
      "Processing Record 424 | Buraidah\n",
      "City not found. Skipping...\n",
      "Processing Record 425 | Abaete\n",
      "Processing Record 426 | Pasni\n",
      "Processing Record 427 | Wabag\n",
      "Processing Record 428 | Ola\n",
      "Processing Record 429 | Baijiantan\n",
      "Processing Record 430 | Aracoiaba\n",
      "Processing Record 431 | Mbini\n",
      "Processing Record 432 | Kysyl-Syr\n",
      "Processing Record 433 | Kumul\n",
      "Processing Record 434 | Saldanha\n",
      "Processing Record 435 | Richards Bay\n",
      "Processing Record 436 | Trincomalee\n",
      "Processing Record 437 | Sirnak\n",
      "Processing Record 438 | Gizo\n",
      "Processing Record 439 | Siderno\n",
      "Processing Record 440 | Methoni\n",
      "Processing Record 441 | Slave Lake\n",
      "City not found. Skipping...\n",
      "Processing Record 442 | Trogir\n",
      "Processing Record 443 | Wewak\n",
      "Processing Record 444 | Yelizovo\n",
      "Processing Record 445 | Kavaratti\n",
      "Processing Record 446 | Kulhudhuffushi\n",
      "Processing Record 447 | Yerbogachen\n",
      "Processing Record 448 | Tabas\n",
      "Processing Record 449 | Rawson\n",
      "Processing Record 450 | Andenes\n",
      "Processing Record 451 | Port Alberni\n",
      "Processing Record 452 | Balikpapan\n",
      "Processing Record 453 | Hammerfest\n",
      "Processing Record 454 | Hambantota\n",
      "Processing Record 455 | Sorland\n",
      "Processing Record 456 | Sola\n",
      "Processing Record 457 | Kerouane\n"
     ]
    },
    {
     "name": "stdout",
     "output_type": "stream",
     "text": [
      "Processing Record 458 | Praia\n",
      "Processing Record 459 | Khandyga\n",
      "Processing Record 460 | Rio Grande\n",
      "Processing Record 461 | Ilhabela\n",
      "City not found. Skipping...\n",
      "Processing Record 462 | Valle del Guamuez\n",
      "Processing Record 463 | Sagarejo\n",
      "Processing Record 464 | Kaeo\n",
      "Processing Record 465 | Morden\n",
      "Processing Record 466 | Port Shepstone\n",
      "Processing Record 467 | Asau\n",
      "Processing Record 468 | Tambacounda\n",
      "Processing Record 469 | Antalaha\n",
      "Processing Record 470 | Bay Roberts\n",
      "Processing Record 471 | Correntina\n",
      "Processing Record 472 | Camana\n",
      "Processing Record 473 | Alappuzha\n",
      "Processing Record 474 | Novyy Buh\n",
      "Processing Record 475 | Mauguio\n",
      "Processing Record 476 | San Patricio\n",
      "Processing Record 477 | Bambanglipuro\n",
      "Processing Record 478 | Tura\n",
      "Processing Record 479 | Sokolo\n",
      "Processing Record 480 | Boa Vista\n",
      "Processing Record 481 | Lukovetskiy\n",
      "Processing Record 482 | Saint Peters\n",
      "Processing Record 483 | Sobolevo\n",
      "Processing Record 484 | Zhengjiatun\n",
      "Processing Record 485 | Clyde River\n",
      "Processing Record 486 | Obidos\n",
      "Processing Record 487 | Gamba\n",
      "Processing Record 488 | Yangi Marg`ilon\n",
      "Processing Record 489 | Waingapu\n",
      "Processing Record 490 | Griffith\n",
      "Processing Record 491 | Quelimane\n",
      "Processing Record 492 | Cururupu\n",
      "Processing Record 493 | Zakamensk\n",
      "Processing Record 494 | Baragaon\n",
      "Processing Record 495 | Pringsewu\n",
      "Processing Record 496 | Coahuayana Viejo\n",
      "Processing Record 497 | Comarapa\n",
      "Processing Record 498 | Biograd na Moru\n",
      "Processing Record 499 | San Andres\n",
      "Processing Record 500 | Vanimo\n",
      "Processing Record 501 | Nicoya\n",
      "Processing Record 502 | Farah\n",
      "City not found. Skipping...\n",
      "Processing Record 503 | Minab\n",
      "Processing Record 504 | Albert\n",
      "Processing Record 505 | Togur\n",
      "City not found. Skipping...\n",
      "Processing Record 506 | Anadyr\n",
      "Processing Record 507 | Kuytun\n",
      "Processing Record 508 | Potenza\n",
      "Processing Record 509 | Koslan\n",
      "Processing Record 510 | Mangan\n",
      "Processing Record 511 | Kawalu\n",
      "Processing Record 512 | Kahului\n",
      "Processing Record 513 | Kupang\n",
      "Processing Record 514 | Beauchamps\n",
      "Processing Record 515 | Wucheng\n",
      "Processing Record 516 | Batagay\n",
      "Processing Record 517 | Uzhhorod\n",
      "Processing Record 518 | Luoyang\n",
      "Processing Record 519 | Pontianak\n",
      "Processing Record 520 | Qaqortoq\n",
      "Processing Record 521 | Nuqui\n",
      "City not found. Skipping...\n",
      "Processing Record 522 | Faya\n",
      "Processing Record 523 | Kieta\n",
      "Processing Record 524 | Ubari\n",
      "Processing Record 525 | Christchurch\n",
      "Processing Record 526 | Edd\n",
      "Processing Record 527 | Atar\n",
      "Processing Record 528 | Araxa\n",
      "Processing Record 529 | Anloga\n",
      "Processing Record 530 | Mulege\n",
      "Processing Record 531 | Baykit\n",
      "Processing Record 532 | Machida\n",
      "Processing Record 533 | Cam Ranh\n",
      "Processing Record 534 | Moranbah\n",
      "Processing Record 535 | Luangwa\n",
      "Processing Record 536 | Birin\n",
      "Processing Record 537 | Adrar\n",
      "Processing Record 538 | Zhuanghe\n",
      "Processing Record 539 | Rundu\n",
      "Processing Record 540 | Galatii Bistritei\n",
      "Processing Record 541 | Kruisfontein\n",
      "Processing Record 542 | Aykhal\n",
      "Processing Record 543 | Bilyayivka\n",
      "Processing Record 544 | Santa Cruz de la Sierra\n",
      "Processing Record 545 | Akureyri\n",
      "Processing Record 546 | Iquique\n",
      "City not found. Skipping...\n",
      "Processing Record 547 | Meulaboh\n",
      "Processing Record 548 | Sindor\n",
      "Processing Record 549 | Ostrovnoy\n",
      "Processing Record 550 | Bartlesville\n",
      "Processing Record 551 | Salinopolis\n",
      "Processing Record 552 | Pacific Grove\n",
      "Processing Record 553 | Manzanillo\n",
      "Processing Record 554 | Arrifes\n",
      "Processing Record 555 | Nouakchott\n",
      "City not found. Skipping...\n",
      "Processing Record 556 | Krasnorechenskiy\n",
      "Processing Record 557 | Camasca\n",
      "Processing Record 558 | Tsaratanana\n",
      "Processing Record 559 | Oddur\n",
      "Processing Record 560 | Puerto Leguizamo\n",
      "Processing Record 561 | Kurchum\n",
      "Processing Record 562 | Rapar\n",
      "Processing Record 563 | Hot Springs\n",
      "Processing Record 564 | Bairnsdale\n",
      "City not found. Skipping...\n",
      "Processing Record 565 | Oranjemund\n",
      "Processing Record 566 | Skeldon\n",
      "City not found. Skipping...\n",
      "Processing Record 567 | Islamkot\n",
      "---------------------------\n",
      "Data Retrieval Complete\n",
      "----------------------------\n"
     ]
    }
   ],
   "source": [
    "# Get weather data\n",
    "cities_list1 = []\n",
    "cloudy_list1 = []\n",
    "country_list1 = []\n",
    "date_list1 = []\n",
    "humidity_list1 = []\n",
    "lat_list1 = []\n",
    "long_list1 = []\n",
    "maxtemp_list1 = []\n",
    "windspeed_list1 = []\n",
    "recordone = 1\n",
    "\n",
    "print(f\"Beginning Data Retrieval\")\n",
    "print(f\"--------------------------------\")\n",
    "\n",
    "for city in cities: \n",
    "    try:\n",
    "        weather_responseone = requests.get(f\"{url_two}&q={city}\").json()\n",
    "        cities_list1.append(weather_responseone[\"name\"])\n",
    "        cloudy_list1.append(weather_responseone[\"clouds\"][\"all\"])\n",
    "        country_list1.append(weather_responseone[\"sys\"][\"country\"])\n",
    "        date_list1.append(weather_responseone[\"dt\"])\n",
    "        humidity_list1.append(weather_responseone[\"main\"][\"humidity\"])\n",
    "        lat_list1.append(weather_responseone[\"coord\"][\"lat\"])\n",
    "        long_list1.append(weather_responseone[\"coord\"][\"lon\"])\n",
    "        maxtemp_list1.append(weather_responseone[\"main\"][\"temp_max\"])\n",
    "        windspeed_list1.append(weather_responseone[\"wind\"][\"speed\"])\n",
    "        cityname_info1 = (weather_responseone[\"name\"])\n",
    "\n",
    "        print(f\"Processing Record {recordone} | {cityname_info1}\")\n",
    "\n",
    "        recordone +=1 \n",
    "      \n",
    "        time.sleep(2.00)\n",
    "      \n",
    "    except:\n",
    "        print(f\"City not found. Skipping...\")\n",
    "    continue\n",
    "\n",
    "print(f\"---------------------------\")\n",
    "print(f\"Data Retrieval Complete\")\n",
    "print(f\"----------------------------\")"
   ]
  },
  {
   "cell_type": "code",
   "execution_count": 6,
   "metadata": {},
   "outputs": [
    {
     "data": {
      "text/plain": [
       "City          567\n",
       "Cloudiness    567\n",
       "Country       567\n",
       "Date          567\n",
       "Humidity      567\n",
       "Lat           567\n",
       "Lng           567\n",
       "Max Temp      567\n",
       "Wind Speed    567\n",
       "dtype: int64"
      ]
     },
     "execution_count": 6,
     "metadata": {},
     "output_type": "execute_result"
    }
   ],
   "source": [
    "weather_dic = {\"City\": cities_list1, \"Cloudiness\": cloudy_list1, \"Country\": country_list1, \n",
    "               \"Date\": date_list1,\"Humidity\":humidity_list1, \"Lat\": lat_list1, \"Lng\": long_list1, \n",
    "               \"Max Temp\": maxtemp_list1, \"Wind Speed\": windspeed_list1}\n",
    "weather_df = pd.DataFrame(weather_dic)\n",
    "weather_df.count()"
   ]
  },
  {
   "cell_type": "markdown",
   "metadata": {},
   "source": [
    "# City DataFrame"
   ]
  },
  {
   "cell_type": "code",
   "execution_count": 7,
   "metadata": {},
   "outputs": [
    {
     "data": {
      "text/html": [
       "<div>\n",
       "<style scoped>\n",
       "    .dataframe tbody tr th:only-of-type {\n",
       "        vertical-align: middle;\n",
       "    }\n",
       "\n",
       "    .dataframe tbody tr th {\n",
       "        vertical-align: top;\n",
       "    }\n",
       "\n",
       "    .dataframe thead th {\n",
       "        text-align: right;\n",
       "    }\n",
       "</style>\n",
       "<table border=\"1\" class=\"dataframe\">\n",
       "  <thead>\n",
       "    <tr style=\"text-align: right;\">\n",
       "      <th></th>\n",
       "      <th>City</th>\n",
       "      <th>Cloudiness</th>\n",
       "      <th>Country</th>\n",
       "      <th>Date</th>\n",
       "      <th>Humidity</th>\n",
       "      <th>Lat</th>\n",
       "      <th>Lng</th>\n",
       "      <th>Max Temp</th>\n",
       "      <th>Wind Speed</th>\n",
       "    </tr>\n",
       "  </thead>\n",
       "  <tbody>\n",
       "    <tr>\n",
       "      <th>0</th>\n",
       "      <td>Hong Kong</td>\n",
       "      <td>40</td>\n",
       "      <td>HK</td>\n",
       "      <td>1578889926</td>\n",
       "      <td>60</td>\n",
       "      <td>22.29</td>\n",
       "      <td>114.16</td>\n",
       "      <td>73.99</td>\n",
       "      <td>8.05</td>\n",
       "    </tr>\n",
       "    <tr>\n",
       "      <th>1</th>\n",
       "      <td>Punta Arenas</td>\n",
       "      <td>40</td>\n",
       "      <td>CL</td>\n",
       "      <td>1578890000</td>\n",
       "      <td>81</td>\n",
       "      <td>-53.15</td>\n",
       "      <td>-70.92</td>\n",
       "      <td>53.60</td>\n",
       "      <td>4.70</td>\n",
       "    </tr>\n",
       "    <tr>\n",
       "      <th>2</th>\n",
       "      <td>Yellowknife</td>\n",
       "      <td>5</td>\n",
       "      <td>CA</td>\n",
       "      <td>1578890002</td>\n",
       "      <td>64</td>\n",
       "      <td>62.46</td>\n",
       "      <td>-114.35</td>\n",
       "      <td>-41.80</td>\n",
       "      <td>4.70</td>\n",
       "    </tr>\n",
       "    <tr>\n",
       "      <th>3</th>\n",
       "      <td>Thompson</td>\n",
       "      <td>90</td>\n",
       "      <td>CA</td>\n",
       "      <td>1578890004</td>\n",
       "      <td>84</td>\n",
       "      <td>55.74</td>\n",
       "      <td>-97.86</td>\n",
       "      <td>1.40</td>\n",
       "      <td>3.36</td>\n",
       "    </tr>\n",
       "    <tr>\n",
       "      <th>4</th>\n",
       "      <td>Rome</td>\n",
       "      <td>90</td>\n",
       "      <td>US</td>\n",
       "      <td>1578890006</td>\n",
       "      <td>92</td>\n",
       "      <td>43.21</td>\n",
       "      <td>-75.46</td>\n",
       "      <td>28.99</td>\n",
       "      <td>4.70</td>\n",
       "    </tr>\n",
       "  </tbody>\n",
       "</table>\n",
       "</div>"
      ],
      "text/plain": [
       "           City  Cloudiness Country        Date  Humidity    Lat     Lng  \\\n",
       "0     Hong Kong          40      HK  1578889926        60  22.29  114.16   \n",
       "1  Punta Arenas          40      CL  1578890000        81 -53.15  -70.92   \n",
       "2   Yellowknife           5      CA  1578890002        64  62.46 -114.35   \n",
       "3      Thompson          90      CA  1578890004        84  55.74  -97.86   \n",
       "4          Rome          90      US  1578890006        92  43.21  -75.46   \n",
       "\n",
       "   Max Temp  Wind Speed  \n",
       "0     73.99        8.05  \n",
       "1     53.60        4.70  \n",
       "2    -41.80        4.70  \n",
       "3      1.40        3.36  \n",
       "4     28.99        4.70  "
      ]
     },
     "execution_count": 7,
     "metadata": {},
     "output_type": "execute_result"
    }
   ],
   "source": [
    "weather_df.head()"
   ]
  },
  {
   "cell_type": "code",
   "execution_count": 8,
   "metadata": {},
   "outputs": [],
   "source": [
    "#Exporting City DataFrame in a CSV:\n",
    "weather_df.to_csv(\"weather_df.csv\")"
   ]
  },
  {
   "cell_type": "markdown",
   "metadata": {},
   "source": [
    "# Latitude vs Temperature Plot"
   ]
  },
  {
   "cell_type": "code",
   "execution_count": 9,
   "metadata": {},
   "outputs": [
    {
     "data": {
      "image/png": "[encoded data removed]",
      "text/plain": [
       "<Figure size 432x288 with 1 Axes>"
      ]
     },
     "metadata": {
      "needs_background": "light"
     },
     "output_type": "display_data"
    }
   ],
   "source": [
    "plt.title(\"City Latitude vs. Max Temperature(F)\")\n",
    "plt.xlabel(\"Latitude\")\n",
    "plt.ylabel (\"Max Temperature(F)\")\n",
    "plt.grid()\n",
    "\n",
    "plt.scatter(weather_df[\"Lat\"], weather_df[\"Max Temp\"], marker = \"o\")\n",
    "plt.savefig(\"Temperaturevs.Latitude.png\")\n",
    "plt.show()"
   ]
  },
  {
   "cell_type": "markdown",
   "metadata": {},
   "source": [
    "Description: This chart shows the citys's latitudes providing a general decreading trend of temperature as the latitude increases."
   ]
  },
  {
   "cell_type": "markdown",
   "metadata": {},
   "source": [
    "# Latitude vs. Humidity Plot"
   ]
  },
  {
   "cell_type": "code",
   "execution_count": 10,
   "metadata": {},
   "outputs": [
    {
     "data": {
      "image/png": "[encoded data removed]",
      "text/plain": [
       "<Figure size 432x288 with 1 Axes>"
      ]
     },
     "metadata": {
      "needs_background": "light"
     },
     "output_type": "display_data"
    }
   ],
   "source": [
    "plt.title(\"City Latitude vs. Humidity(%)\")\n",
    "plt.xlabel(\"Latitude\")\n",
    "plt.ylabel (\"Humidity(%)\")\n",
    "plt.grid()\n",
    "\n",
    "plt.scatter(weather_df[\"Lat\"], weather_df[\"Humidity\"], marker = \"o\")\n",
    "plt.savefig(\"Temperaturevs.Humidity.png\")\n",
    "plt.show()"
   ]
  },
  {
   "cell_type": "markdown",
   "metadata": {},
   "source": [
    "Description: This plot shows the latitudes of the following the cities. It's really hard to tell a relationship. For cities with humidities less than 20%, they generally have a smaller latitude. "
   ]
  },
  {
   "cell_type": "markdown",
   "metadata": {},
   "source": [
    "# Latitude vs. Cloudiness"
   ]
  },
  {
   "cell_type": "code",
   "execution_count": 11,
   "metadata": {},
   "outputs": [
    {
     "data": {
      "image/png": "[encoded data removed]",
      "text/plain": [
       "<Figure size 432x288 with 1 Axes>"
      ]
     },
     "metadata": {
      "needs_background": "light"
     },
     "output_type": "display_data"
    }
   ],
   "source": [
    "plt.title(\"City Latitude vs. Cloudiness(%)\")\n",
    "plt.xlabel(\"Latitude\")\n",
    "plt.ylabel (\"Cloudiness(%)\")\n",
    "plt.grid()\n",
    "\n",
    "plt.scatter(weather_df[\"Lat\"], weather_df[\"Cloudiness\"], marker = \"o\")\n",
    "plt.savefig(\"Temperaturevs.Cloudiness.png\")\n",
    "plt.show()"
   ]
  },
  {
   "cell_type": "markdown",
   "metadata": {},
   "source": [
    "Description:The following chart shows the Cloudiness(%) over the Latitude coordinates. The values are dispersed and hence it's really hard to detect a fundamental pattern just by looking."
   ]
  },
  {
   "cell_type": "markdown",
   "metadata": {},
   "source": [
    "# Latitude vs. Wind Speed(mph) Plot"
   ]
  },
  {
   "cell_type": "code",
   "execution_count": 12,
   "metadata": {},
   "outputs": [
    {
     "data": {
      "image/png": "[encoded data removed]",
      "text/plain": [
       "<Figure size 432x288 with 1 Axes>"
      ]
     },
     "metadata": {
      "needs_background": "light"
     },
     "output_type": "display_data"
    }
   ],
   "source": [
    "plt.title(\"City Latitude vs. Wind Speed(mph)\")\n",
    "plt.xlabel(\"Latitude\")\n",
    "plt.ylabel (\"Wind Speed(mph)\")\n",
    "plt.grid()\n",
    "\n",
    "plt.scatter(weather_df[\"Lat\"], weather_df[\"Wind Speed\"], marker = \"o\")\n",
    "plt.savefig(\"Temperaturevs.WindSpeed.png\")\n",
    "plt.show()"
   ]
  },
  {
   "cell_type": "markdown",
   "metadata": {},
   "source": [
    "Description: This plot shows that wind speed is generally less than 20 mph for majority of the cities in correlation to their latitude."
   ]
  },
  {
   "cell_type": "markdown",
   "metadata": {},
   "source": [
    "# Linear Regression "
   ]
  },
  {
   "cell_type": "markdown",
   "metadata": {},
   "source": [
    "####  Southern Hemisphere DataFrame"
   ]
  },
  {
   "cell_type": "code",
   "execution_count": 13,
   "metadata": {},
   "outputs": [
    {
     "data": {
      "text/html": [
       "<div>\n",
       "<style scoped>\n",
       "    .dataframe tbody tr th:only-of-type {\n",
       "        vertical-align: middle;\n",
       "    }\n",
       "\n",
       "    .dataframe tbody tr th {\n",
       "        vertical-align: top;\n",
       "    }\n",
       "\n",
       "    .dataframe thead th {\n",
       "        text-align: right;\n",
       "    }\n",
       "</style>\n",
       "<table border=\"1\" class=\"dataframe\">\n",
       "  <thead>\n",
       "    <tr style=\"text-align: right;\">\n",
       "      <th></th>\n",
       "      <th>City</th>\n",
       "      <th>Cloudiness</th>\n",
       "      <th>Country</th>\n",
       "      <th>Date</th>\n",
       "      <th>Humidity</th>\n",
       "      <th>Lat</th>\n",
       "      <th>Lng</th>\n",
       "      <th>Max Temp</th>\n",
       "      <th>Wind Speed</th>\n",
       "    </tr>\n",
       "  </thead>\n",
       "  <tbody>\n",
       "    <tr>\n",
       "      <th>1</th>\n",
       "      <td>Punta Arenas</td>\n",
       "      <td>40</td>\n",
       "      <td>CL</td>\n",
       "      <td>1578890000</td>\n",
       "      <td>81</td>\n",
       "      <td>-53.15</td>\n",
       "      <td>-70.92</td>\n",
       "      <td>53.60</td>\n",
       "      <td>4.70</td>\n",
       "    </tr>\n",
       "    <tr>\n",
       "      <th>5</th>\n",
       "      <td>Mataura</td>\n",
       "      <td>18</td>\n",
       "      <td>NZ</td>\n",
       "      <td>1578890008</td>\n",
       "      <td>57</td>\n",
       "      <td>-46.19</td>\n",
       "      <td>168.86</td>\n",
       "      <td>57.99</td>\n",
       "      <td>11.99</td>\n",
       "    </tr>\n",
       "    <tr>\n",
       "      <th>6</th>\n",
       "      <td>Bambous Virieux</td>\n",
       "      <td>75</td>\n",
       "      <td>MU</td>\n",
       "      <td>1578890011</td>\n",
       "      <td>94</td>\n",
       "      <td>-20.34</td>\n",
       "      <td>57.76</td>\n",
       "      <td>81.00</td>\n",
       "      <td>6.93</td>\n",
       "    </tr>\n",
       "    <tr>\n",
       "      <th>10</th>\n",
       "      <td>Varzea Grande</td>\n",
       "      <td>40</td>\n",
       "      <td>BR</td>\n",
       "      <td>1578890019</td>\n",
       "      <td>83</td>\n",
       "      <td>-15.65</td>\n",
       "      <td>-56.13</td>\n",
       "      <td>80.60</td>\n",
       "      <td>5.55</td>\n",
       "    </tr>\n",
       "    <tr>\n",
       "      <th>14</th>\n",
       "      <td>Mazagao</td>\n",
       "      <td>40</td>\n",
       "      <td>BR</td>\n",
       "      <td>1578890027</td>\n",
       "      <td>100</td>\n",
       "      <td>-0.12</td>\n",
       "      <td>-51.29</td>\n",
       "      <td>77.00</td>\n",
       "      <td>2.24</td>\n",
       "    </tr>\n",
       "  </tbody>\n",
       "</table>\n",
       "</div>"
      ],
      "text/plain": [
       "               City  Cloudiness Country        Date  Humidity    Lat     Lng  \\\n",
       "1      Punta Arenas          40      CL  1578890000        81 -53.15  -70.92   \n",
       "5           Mataura          18      NZ  1578890008        57 -46.19  168.86   \n",
       "6   Bambous Virieux          75      MU  1578890011        94 -20.34   57.76   \n",
       "10    Varzea Grande          40      BR  1578890019        83 -15.65  -56.13   \n",
       "14          Mazagao          40      BR  1578890027       100  -0.12  -51.29   \n",
       "\n",
       "    Max Temp  Wind Speed  \n",
       "1      53.60        4.70  \n",
       "5      57.99       11.99  \n",
       "6      81.00        6.93  \n",
       "10     80.60        5.55  \n",
       "14     77.00        2.24  "
      ]
     },
     "execution_count": 13,
     "metadata": {},
     "output_type": "execute_result"
    }
   ],
   "source": [
    "negativelat = weather_df.loc[(weather_df[\"Lat\"] < 0)]\n",
    "negativelat.head()"
   ]
  },
  {
   "cell_type": "code",
   "execution_count": 14,
   "metadata": {},
   "outputs": [
    {
     "data": {
      "text/plain": [
       "City\n",
       "Punta Arenas       -53.15\n",
       "Mataura            -46.19\n",
       "Bambous Virieux    -20.34\n",
       "Varzea Grande      -15.65\n",
       "Mazagao             -0.12\n",
       "                    ...  \n",
       "Salinopolis         -0.61\n",
       "Tsaratanana        -16.78\n",
       "Puerto Leguizamo    -0.19\n",
       "Bairnsdale         -37.83\n",
       "Oranjemund         -28.55\n",
       "Name: Lat, Length: 185, dtype: float64"
      ]
     },
     "execution_count": 14,
     "metadata": {},
     "output_type": "execute_result"
    }
   ],
   "source": [
    "citiesinSouthernH = negativelat.set_index([\"City\"])[\"Lat\"]\n",
    "citiesinSouthernH"
   ]
  },
  {
   "cell_type": "code",
   "execution_count": 15,
   "metadata": {},
   "outputs": [
    {
     "data": {
      "text/plain": [
       "City\n",
       "Punta Arenas       -70.92\n",
       "Mataura            168.86\n",
       "Bambous Virieux     57.76\n",
       "Varzea Grande      -56.13\n",
       "Mazagao            -51.29\n",
       "Name: Lng, dtype: float64"
      ]
     },
     "execution_count": 15,
     "metadata": {},
     "output_type": "execute_result"
    }
   ],
   "source": [
    "southern_hemisph = negativelat.set_index([\"City\"])[\"Lng\"]\n",
    "southern_hemisph.head()"
   ]
  },
  {
   "cell_type": "markdown",
   "metadata": {},
   "source": [
    "#### Breaking Down to Lat/Lng in Southern Hemisphere"
   ]
  },
  {
   "cell_type": "code",
   "execution_count": 16,
   "metadata": {},
   "outputs": [
    {
     "data": {
      "text/html": [
       "<div>\n",
       "<style scoped>\n",
       "    .dataframe tbody tr th:only-of-type {\n",
       "        vertical-align: middle;\n",
       "    }\n",
       "\n",
       "    .dataframe tbody tr th {\n",
       "        vertical-align: top;\n",
       "    }\n",
       "\n",
       "    .dataframe thead th {\n",
       "        text-align: right;\n",
       "    }\n",
       "</style>\n",
       "<table border=\"1\" class=\"dataframe\">\n",
       "  <thead>\n",
       "    <tr style=\"text-align: right;\">\n",
       "      <th></th>\n",
       "      <th>Lat in Southern Hemisph</th>\n",
       "      <th>Lng in Southern Hemisph</th>\n",
       "    </tr>\n",
       "    <tr>\n",
       "      <th>City</th>\n",
       "      <th></th>\n",
       "      <th></th>\n",
       "    </tr>\n",
       "  </thead>\n",
       "  <tbody>\n",
       "    <tr>\n",
       "      <th>Punta Arenas</th>\n",
       "      <td>-53.15</td>\n",
       "      <td>-70.92</td>\n",
       "    </tr>\n",
       "    <tr>\n",
       "      <th>Mataura</th>\n",
       "      <td>-46.19</td>\n",
       "      <td>168.86</td>\n",
       "    </tr>\n",
       "    <tr>\n",
       "      <th>Bambous Virieux</th>\n",
       "      <td>-20.34</td>\n",
       "      <td>57.76</td>\n",
       "    </tr>\n",
       "    <tr>\n",
       "      <th>Varzea Grande</th>\n",
       "      <td>-15.65</td>\n",
       "      <td>-56.13</td>\n",
       "    </tr>\n",
       "    <tr>\n",
       "      <th>Mazagao</th>\n",
       "      <td>-0.12</td>\n",
       "      <td>-51.29</td>\n",
       "    </tr>\n",
       "  </tbody>\n",
       "</table>\n",
       "</div>"
      ],
      "text/plain": [
       "                 Lat in Southern Hemisph  Lng in Southern Hemisph\n",
       "City                                                             \n",
       "Punta Arenas                      -53.15                   -70.92\n",
       "Mataura                           -46.19                   168.86\n",
       "Bambous Virieux                   -20.34                    57.76\n",
       "Varzea Grande                     -15.65                   -56.13\n",
       "Mazagao                            -0.12                   -51.29"
      ]
     },
     "execution_count": 16,
     "metadata": {},
     "output_type": "execute_result"
    }
   ],
   "source": [
    "citiesinSouthernH1 = pd.DataFrame({\n",
    "    \"Lat in Southern Hemisph\": citiesinSouthernH, \"Lng in Southern Hemisph\":southern_hemisph})\n",
    "\n",
    "citiesinSouthernH1.head()"
   ]
  },
  {
   "cell_type": "code",
   "execution_count": 17,
   "metadata": {},
   "outputs": [],
   "source": [
    "#Exporting Southern Hemisphere Data in a CSV:\n",
    "negativelat.to_csv('negativelat.csv')\n",
    "\n",
    "#Exporting Southern Hemisphere Data with only Latitude and Longitude in a CSV:\n",
    "citiesinSouthernH1.to_csv('citiesinSouthernH1.csv')"
   ]
  },
  {
   "cell_type": "markdown",
   "metadata": {},
   "source": [
    "#  Northern Hemisphere DataFrame"
   ]
  },
  {
   "cell_type": "code",
   "execution_count": 18,
   "metadata": {},
   "outputs": [
    {
     "data": {
      "text/html": [
       "<div>\n",
       "<style scoped>\n",
       "    .dataframe tbody tr th:only-of-type {\n",
       "        vertical-align: middle;\n",
       "    }\n",
       "\n",
       "    .dataframe tbody tr th {\n",
       "        vertical-align: top;\n",
       "    }\n",
       "\n",
       "    .dataframe thead th {\n",
       "        text-align: right;\n",
       "    }\n",
       "</style>\n",
       "<table border=\"1\" class=\"dataframe\">\n",
       "  <thead>\n",
       "    <tr style=\"text-align: right;\">\n",
       "      <th></th>\n",
       "      <th>City</th>\n",
       "      <th>Cloudiness</th>\n",
       "      <th>Country</th>\n",
       "      <th>Date</th>\n",
       "      <th>Humidity</th>\n",
       "      <th>Lat</th>\n",
       "      <th>Lng</th>\n",
       "      <th>Max Temp</th>\n",
       "      <th>Wind Speed</th>\n",
       "    </tr>\n",
       "  </thead>\n",
       "  <tbody>\n",
       "    <tr>\n",
       "      <th>0</th>\n",
       "      <td>Hong Kong</td>\n",
       "      <td>40</td>\n",
       "      <td>HK</td>\n",
       "      <td>1578889926</td>\n",
       "      <td>60</td>\n",
       "      <td>22.29</td>\n",
       "      <td>114.16</td>\n",
       "      <td>73.99</td>\n",
       "      <td>8.05</td>\n",
       "    </tr>\n",
       "    <tr>\n",
       "      <th>2</th>\n",
       "      <td>Yellowknife</td>\n",
       "      <td>5</td>\n",
       "      <td>CA</td>\n",
       "      <td>1578890002</td>\n",
       "      <td>64</td>\n",
       "      <td>62.46</td>\n",
       "      <td>-114.35</td>\n",
       "      <td>-41.80</td>\n",
       "      <td>4.70</td>\n",
       "    </tr>\n",
       "    <tr>\n",
       "      <th>3</th>\n",
       "      <td>Thompson</td>\n",
       "      <td>90</td>\n",
       "      <td>CA</td>\n",
       "      <td>1578890004</td>\n",
       "      <td>84</td>\n",
       "      <td>55.74</td>\n",
       "      <td>-97.86</td>\n",
       "      <td>1.40</td>\n",
       "      <td>3.36</td>\n",
       "    </tr>\n",
       "    <tr>\n",
       "      <th>4</th>\n",
       "      <td>Rome</td>\n",
       "      <td>90</td>\n",
       "      <td>US</td>\n",
       "      <td>1578890006</td>\n",
       "      <td>92</td>\n",
       "      <td>43.21</td>\n",
       "      <td>-75.46</td>\n",
       "      <td>28.99</td>\n",
       "      <td>4.70</td>\n",
       "    </tr>\n",
       "    <tr>\n",
       "      <th>7</th>\n",
       "      <td>Qaanaaq</td>\n",
       "      <td>0</td>\n",
       "      <td>GL</td>\n",
       "      <td>1578890013</td>\n",
       "      <td>68</td>\n",
       "      <td>77.48</td>\n",
       "      <td>-69.36</td>\n",
       "      <td>-15.70</td>\n",
       "      <td>2.28</td>\n",
       "    </tr>\n",
       "  </tbody>\n",
       "</table>\n",
       "</div>"
      ],
      "text/plain": [
       "          City  Cloudiness Country        Date  Humidity    Lat     Lng  \\\n",
       "0    Hong Kong          40      HK  1578889926        60  22.29  114.16   \n",
       "2  Yellowknife           5      CA  1578890002        64  62.46 -114.35   \n",
       "3     Thompson          90      CA  1578890004        84  55.74  -97.86   \n",
       "4         Rome          90      US  1578890006        92  43.21  -75.46   \n",
       "7      Qaanaaq           0      GL  1578890013        68  77.48  -69.36   \n",
       "\n",
       "   Max Temp  Wind Speed  \n",
       "0     73.99        8.05  \n",
       "2    -41.80        4.70  \n",
       "3      1.40        3.36  \n",
       "4     28.99        4.70  \n",
       "7    -15.70        2.28  "
      ]
     },
     "execution_count": 18,
     "metadata": {},
     "output_type": "execute_result"
    }
   ],
   "source": [
    "negativelatinN = weather_df.loc[(weather_df[\"Lat\"] >= 0)]\n",
    "negativelatinN.head()"
   ]
  },
  {
   "cell_type": "code",
   "execution_count": 19,
   "metadata": {},
   "outputs": [
    {
     "data": {
      "text/plain": [
       "City\n",
       "Hong Kong      22.29\n",
       "Yellowknife    62.46\n",
       "Thompson       55.74\n",
       "Rome           43.21\n",
       "Qaanaaq        77.48\n",
       "Name: Lat, dtype: float64"
      ]
     },
     "execution_count": 19,
     "metadata": {},
     "output_type": "execute_result"
    }
   ],
   "source": [
    "citiesinNorthernH = negativelatinN.set_index([\"City\"])[\"Lat\"]\n",
    "citiesinNorthernH.head()"
   ]
  },
  {
   "cell_type": "code",
   "execution_count": 20,
   "metadata": {},
   "outputs": [
    {
     "data": {
      "text/plain": [
       "City\n",
       "Hong Kong      114.16\n",
       "Yellowknife   -114.35\n",
       "Thompson       -97.86\n",
       "Rome           -75.46\n",
       "Qaanaaq        -69.36\n",
       "Name: Lng, dtype: float64"
      ]
     },
     "execution_count": 20,
     "metadata": {},
     "output_type": "execute_result"
    }
   ],
   "source": [
    "northern_hemisph = negativelatinN.set_index([\"City\"])[\"Lng\"]\n",
    "northern_hemisph.head()"
   ]
  },
  {
   "cell_type": "markdown",
   "metadata": {},
   "source": [
    "#### Breaking Down to Lat/Lng in Northern Hemisphere"
   ]
  },
  {
   "cell_type": "code",
   "execution_count": 21,
   "metadata": {},
   "outputs": [
    {
     "data": {
      "text/html": [
       "<div>\n",
       "<style scoped>\n",
       "    .dataframe tbody tr th:only-of-type {\n",
       "        vertical-align: middle;\n",
       "    }\n",
       "\n",
       "    .dataframe tbody tr th {\n",
       "        vertical-align: top;\n",
       "    }\n",
       "\n",
       "    .dataframe thead th {\n",
       "        text-align: right;\n",
       "    }\n",
       "</style>\n",
       "<table border=\"1\" class=\"dataframe\">\n",
       "  <thead>\n",
       "    <tr style=\"text-align: right;\">\n",
       "      <th></th>\n",
       "      <th>Lat in Northern Hemisph</th>\n",
       "      <th>Lng in Northern Hemisph</th>\n",
       "    </tr>\n",
       "    <tr>\n",
       "      <th>City</th>\n",
       "      <th></th>\n",
       "      <th></th>\n",
       "    </tr>\n",
       "  </thead>\n",
       "  <tbody>\n",
       "    <tr>\n",
       "      <th>Hong Kong</th>\n",
       "      <td>22.29</td>\n",
       "      <td>114.16</td>\n",
       "    </tr>\n",
       "    <tr>\n",
       "      <th>Yellowknife</th>\n",
       "      <td>62.46</td>\n",
       "      <td>-114.35</td>\n",
       "    </tr>\n",
       "    <tr>\n",
       "      <th>Thompson</th>\n",
       "      <td>55.74</td>\n",
       "      <td>-97.86</td>\n",
       "    </tr>\n",
       "    <tr>\n",
       "      <th>Rome</th>\n",
       "      <td>43.21</td>\n",
       "      <td>-75.46</td>\n",
       "    </tr>\n",
       "    <tr>\n",
       "      <th>Qaanaaq</th>\n",
       "      <td>77.48</td>\n",
       "      <td>-69.36</td>\n",
       "    </tr>\n",
       "  </tbody>\n",
       "</table>\n",
       "</div>"
      ],
      "text/plain": [
       "             Lat in Northern Hemisph  Lng in Northern Hemisph\n",
       "City                                                         \n",
       "Hong Kong                      22.29                   114.16\n",
       "Yellowknife                    62.46                  -114.35\n",
       "Thompson                       55.74                   -97.86\n",
       "Rome                           43.21                   -75.46\n",
       "Qaanaaq                        77.48                   -69.36"
      ]
     },
     "execution_count": 21,
     "metadata": {},
     "output_type": "execute_result"
    }
   ],
   "source": [
    "citiesinNorthernH1 = pd.DataFrame({\n",
    "    \"Lat in Northern Hemisph\": citiesinNorthernH, \"Lng in Northern Hemisph\":northern_hemisph})\n",
    "\n",
    "citiesinNorthernH1.head()"
   ]
  },
  {
   "cell_type": "code",
   "execution_count": 22,
   "metadata": {},
   "outputs": [],
   "source": [
    "#Exporting Northern Hemisphere Data in a CSV:\n",
    "negativelatinN.to_csv('negativelatinN.csv')\n",
    "\n",
    "#Exporting Northern Hemisphere Data with only Latitude and Longitude in a CSV:\n",
    "citiesinNorthernH1.to_csv('citiesinNorthernH1.csv')\n"
   ]
  },
  {
   "cell_type": "markdown",
   "metadata": {},
   "source": [
    "# Displaying Plots of Northern/Southern Hemispheres"
   ]
  },
  {
   "cell_type": "markdown",
   "metadata": {},
   "source": [
    "####  Northern Hemisphere - Max Temp vs. Latitude Linear Regression"
   ]
  },
  {
   "cell_type": "code",
   "execution_count": 23,
   "metadata": {},
   "outputs": [
    {
     "name": "stdout",
     "output_type": "stream",
     "text": [
      "The r-squared is: -0.8595198424414584\n"
     ]
    },
    {
     "data": {
      "image/png": "[encoded data removed]",
      "text/plain": [
       "<Figure size 432x288 with 1 Axes>"
      ]
     },
     "metadata": {
      "needs_background": "light"
     },
     "output_type": "display_data"
    }
   ],
   "source": [
    "#Name x and y values\n",
    "x_values = negativelatinN['Lat']\n",
    "y_values = negativelatinN['Max Temp']\n",
    "\n",
    "# Run linear regression\n",
    "(slope, intercept, rvalue, pvalue, stderr) = linregress(x_values, y_values)\n",
    "regress_values = x_values * slope + intercept\n",
    "line_eq = \"y = \" + str(round(slope,2)) + \"x + \" + str(round(intercept,2))\n",
    "\n",
    "# Plot scatter plot\n",
    "plt.scatter(x_values,y_values, marker = \"o\")\n",
    "\n",
    "# Plot regression line\n",
    "plt.plot(x_values,regress_values,\"r-\")\n",
    "plt.annotate(line_eq,(6,10),fontsize=15,color=\"red\")\n",
    "\n",
    "# Label plot\n",
    "plt.title(\"Northern Hemisphere Latitude vs. Max Temperature(F)\")\n",
    "plt.xlabel('Latitude')\n",
    "plt.ylabel('Max Temperature (F)')\n",
    "plt.grid()\n",
    "\n",
    "# Print r square value\n",
    "print(f\"The r-squared is: {rvalue}\")\n",
    "\n",
    "# Show plot and Save\n",
    "plt.savefig(\"NorthernHemisphereMaxTemperaturevs.Latitude.png\")\n",
    "plt.show()"
   ]
  },
  {
   "cell_type": "markdown",
   "metadata": {},
   "source": [
    "####  Southern Hemisphere - Max Temp vs. Latitude Linear Regression"
   ]
  },
  {
   "cell_type": "code",
   "execution_count": 24,
   "metadata": {},
   "outputs": [
    {
     "name": "stdout",
     "output_type": "stream",
     "text": [
      "The r-squared is: 0.38018347622141035\n"
     ]
    },
    {
     "data": {
      "image/png": "[encoded data removed]",
      "text/plain": [
       "<Figure size 432x288 with 1 Axes>"
      ]
     },
     "metadata": {
      "needs_background": "light"
     },
     "output_type": "display_data"
    }
   ],
   "source": [
    "#Name x and y values\n",
    "x_values1 = negativelat['Lat']\n",
    "y_values1 = negativelat['Max Temp']\n",
    "# Run linear regression\n",
    "(slope, intercept, rvalue, pvalue, stderr) = linregress(x_values1, y_values1)\n",
    "regress_values = x_values1 * slope + intercept\n",
    "line_eq = \"y = \" + str(round(slope,2)) + \"x + \" + str(round(intercept,2))\n",
    "\n",
    "# Plot scatter plot\n",
    "plt.scatter(x_values1,y_values1)\n",
    "\n",
    "# Plot regression line\n",
    "plt.plot(x_values1,regress_values,\"r-\")\n",
    "plt.annotate(line_eq,(6,10),fontsize=15,color=\"red\")\n",
    "\n",
    "# Label plot\n",
    "plt.title(\"Southern Hemisphere Latitude vs. Max Temperature(F)\")\n",
    "plt.xlabel('Latitude')\n",
    "plt.ylabel('Max Temperature (F)')\n",
    "plt.grid()\n",
    "\n",
    "# Print r square value\n",
    "print(f\"The r-squared is: {rvalue}\")\n",
    "\n",
    "# Show plot and Save\n",
    "plt.savefig(\"SouthernHemisphereMaxTemperaturevs.Latitude.png\")\n",
    "plt.show()"
   ]
  },
  {
   "cell_type": "markdown",
   "metadata": {},
   "source": [
    "####  Northern Hemisphere - Humidity (%) vs. Latitude Linear Regression"
   ]
  },
  {
   "cell_type": "code",
   "execution_count": 25,
   "metadata": {},
   "outputs": [
    {
     "name": "stdout",
     "output_type": "stream",
     "text": [
      "The r-squared is: 0.41738360366121513\n"
     ]
    },
    {
     "data": {
      "image/png": "[encoded data removed]",
      "text/plain": [
       "<Figure size 432x288 with 1 Axes>"
      ]
     },
     "metadata": {
      "needs_background": "light"
     },
     "output_type": "display_data"
    }
   ],
   "source": [
    "#Name x and y values\n",
    "x_values2 = negativelatinN['Lat']\n",
    "y_values2 = negativelatinN['Humidity']\n",
    "\n",
    "# Run linear regression\n",
    "(slope, intercept, rvalue, pvalue, stderr) = linregress(x_values2, y_values2)\n",
    "regress_values = x_values2 * slope + intercept\n",
    "line_eq = \"y = \" + str(round(slope,2)) + \"x + \" + str(round(intercept,2))\n",
    "\n",
    "# Plot scatter plot\n",
    "plt.scatter(x_values2,y_values2)\n",
    "\n",
    "# Plot regression line\n",
    "plt.plot(x_values2,regress_values,\"r-\")\n",
    "plt.annotate(line_eq,(6,10),fontsize=15,color=\"red\")\n",
    "\n",
    "# Label plot\n",
    "plt.title(\"Northern Hemisphere Latitude vs. Humidity(%)\")\n",
    "plt.xlabel('Latitude')\n",
    "plt.ylabel('Humidity(%)')\n",
    "plt.grid()\n",
    "\n",
    "# Print r square value\n",
    "print(f\"The r-squared is: {rvalue}\")\n",
    "\n",
    "# Show plot and Save\n",
    "plt.savefig(\"NorthernHumidityvs.Latitude.png\")\n",
    "plt.show()"
   ]
  },
  {
   "cell_type": "markdown",
   "metadata": {},
   "source": [
    "####  Southern Hemisphere - Humidity (%) vs. Latitude Linear Regression"
   ]
  },
  {
   "cell_type": "code",
   "execution_count": 26,
   "metadata": {},
   "outputs": [
    {
     "name": "stdout",
     "output_type": "stream",
     "text": [
      "The r-squared is: 0.3497405331439497\n"
     ]
    },
    {
     "data": {
      "image/png": "[encoded data removed]",
      "text/plain": [
       "<Figure size 432x288 with 1 Axes>"
      ]
     },
     "metadata": {
      "needs_background": "light"
     },
     "output_type": "display_data"
    }
   ],
   "source": [
    "#Name x and y values\n",
    "x_values3 = negativelat['Lat']\n",
    "y_values3 = negativelat['Humidity']\n",
    "\n",
    "# Run linear regression\n",
    "(slope, intercept, rvalue, pvalue, stderr) = linregress(x_values3, y_values3)\n",
    "regress_values = x_values3 * slope + intercept\n",
    "line_eq = \"y = \" + str(round(slope,2)) + \"x + \" + str(round(intercept,2))\n",
    "\n",
    "# Plot scatter plot\n",
    "plt.scatter(x_values3,y_values3)\n",
    "\n",
    "# Plot regression line\n",
    "plt.plot(x_values3,regress_values,\"r-\")\n",
    "plt.annotate(line_eq,(6,10),fontsize=15,color=\"red\")\n",
    "\n",
    "# Label plot\n",
    "plt.title(\"Southern Hemisphere Latitude vs. Humidity(%)\")\n",
    "plt.xlabel('Latitude')\n",
    "plt.ylabel('Humidity(%)')\n",
    "plt.grid()\n",
    "\n",
    "# Print r square value\n",
    "print(f\"The r-squared is: {rvalue}\")\n",
    "\n",
    "# Show plot and Save\n",
    "plt.savefig(\"SouthernHumidityvs.Latitude.png\")\n",
    "plt.show()"
   ]
  },
  {
   "cell_type": "markdown",
   "metadata": {},
   "source": [
    "####  Northern Hemisphere - Cloudiness (%) vs. Latitude Linear Regression"
   ]
  },
  {
   "cell_type": "code",
   "execution_count": 27,
   "metadata": {},
   "outputs": [
    {
     "name": "stdout",
     "output_type": "stream",
     "text": [
      "The r-squared is: 0.2877268930936464\n"
     ]
    },
    {
     "data": {
      "image/png": "[encoded data removed]",
      "text/plain": [
       "<Figure size 432x288 with 1 Axes>"
      ]
     },
     "metadata": {
      "needs_background": "light"
     },
     "output_type": "display_data"
    }
   ],
   "source": [
    "#Name x and y values\n",
    "x_values4 = negativelatinN['Lat']\n",
    "y_values4 = negativelatinN['Cloudiness']\n",
    "\n",
    "# Run linear regression\n",
    "(slope, intercept, rvalue, pvalue, stderr) = linregress(x_values4, y_values4)\n",
    "regress_values = x_values4 * slope + intercept\n",
    "line_eq = \"y = \" + str(round(slope,2)) + \"x + \" + str(round(intercept,2))\n",
    "\n",
    "# Plot scatter plot\n",
    "plt.scatter(x_values4,y_values4)\n",
    "\n",
    "# Plot regression line\n",
    "plt.plot(x_values4,regress_values,\"r-\")\n",
    "plt.annotate(line_eq,(6,10),fontsize=15,color=\"red\")\n",
    "\n",
    "# Label plot\n",
    "plt.title(\"Northern Hemisphere Latitude vs. Cloudiness\")\n",
    "plt.xlabel('Latitude')\n",
    "plt.ylabel('Cloudiness')\n",
    "plt.grid()\n",
    "\n",
    "# Print r square value\n",
    "print(f\"The r-squared is: {rvalue}\")\n",
    "\n",
    "# Show plot and Save\n",
    "plt.savefig(\"NorthernCloudinessvs.Latitude.png\")\n",
    "plt.show()"
   ]
  },
  {
   "cell_type": "markdown",
   "metadata": {},
   "source": [
    "####  Southern Hemisphere - Cloudiness (%) vs. Latitude Linear Regression"
   ]
  },
  {
   "cell_type": "code",
   "execution_count": 28,
   "metadata": {},
   "outputs": [
    {
     "name": "stdout",
     "output_type": "stream",
     "text": [
      "The r-squared is: 0.44959231626001184\n"
     ]
    },
    {
     "data": {
      "image/png": "[encoded data removed]",
      "text/plain": [
       "<Figure size 432x288 with 1 Axes>"
      ]
     },
     "metadata": {
      "needs_background": "light"
     },
     "output_type": "display_data"
    }
   ],
   "source": [
    "#Name x and y values\n",
    "x_values5 = negativelat['Lat']\n",
    "y_values5 = negativelat['Cloudiness']\n",
    "\n",
    "# Run linear regression\n",
    "(slope, intercept, rvalue, pvalue, stderr) = linregress(x_values5, y_values5)\n",
    "regress_values = x_values5 * slope + intercept\n",
    "line_eq = \"y = \" + str(round(slope,2)) + \"x + \" + str(round(intercept,2))\n",
    "\n",
    "# Plot scatter plot\n",
    "plt.scatter(x_values5,y_values5)\n",
    "\n",
    "# Plot regression line\n",
    "plt.plot(x_values5,regress_values,\"r-\")\n",
    "plt.annotate(line_eq,(6,10),fontsize=15,color=\"red\")\n",
    "\n",
    "# Label plot\n",
    "plt.title(\"Southern Hemisphere Latitude vs. Cloudiness\")\n",
    "plt.xlabel('Latitude')\n",
    "plt.ylabel('Cloudiness')\n",
    "plt.grid()\n",
    "\n",
    "# Print r square value\n",
    "print(f\"The r-squared is: {rvalue}\")\n",
    "\n",
    "# Show plot and Save\n",
    "plt.savefig(\"SouthernCloudinessvs.Latitude.png\")\n",
    "plt.show()"
   ]
  },
  {
   "cell_type": "markdown",
   "metadata": {},
   "source": [
    "####  Northern Hemisphere - Wind Speed (mph) vs. Latitude Linear Regression"
   ]
  },
  {
   "cell_type": "code",
   "execution_count": 29,
   "metadata": {},
   "outputs": [
    {
     "name": "stdout",
     "output_type": "stream",
     "text": [
      "The r-squared is: 0.006345891408990088\n"
     ]
    },
    {
     "data": {
      "image/png": "[encoded data removed]",
      "text/plain": [
       "<Figure size 432x288 with 1 Axes>"
      ]
     },
     "metadata": {
      "needs_background": "light"
     },
     "output_type": "display_data"
    }
   ],
   "source": [
    "#Name x and y values\n",
    "x_values6 = negativelatinN['Lat']\n",
    "y_values6 = negativelatinN['Wind Speed']\n",
    "\n",
    "# Run linear regression\n",
    "(slope, intercept, rvalue, pvalue, stderr) = linregress(x_values6, y_values6)\n",
    "regress_values = x_values6 * slope + intercept\n",
    "line_eq = \"y = \" + str(round(slope,2)) + \"x + \" + str(round(intercept,2))\n",
    "\n",
    "# Plot scatter plot\n",
    "plt.scatter(x_values6,y_values6)\n",
    "\n",
    "# Plot regression line\n",
    "plt.plot(x_values6,regress_values,\"r-\")\n",
    "plt.annotate(line_eq,(6,10),fontsize=15,color=\"red\")\n",
    "\n",
    "# Label plot\n",
    "plt.title(\"Northern Hemisphere Latitude vs. Wind Speed(mph)\")\n",
    "plt.xlabel('Latitude')\n",
    "plt.ylabel('Wind Speed(mph')\n",
    "plt.grid()\n",
    "\n",
    "# Print r square value\n",
    "print(f\"The r-squared is: {rvalue}\")\n",
    "\n",
    "# Show plot and Save\n",
    "plt.savefig(\"NorthernWindSpeedvs.Latitude.png\")\n",
    "plt.show()"
   ]
  },
  {
   "cell_type": "markdown",
   "metadata": {},
   "source": [
    "####  Southern Hemisphere - Wind Speed (mph) vs. Latitude Linear Regression"
   ]
  },
  {
   "cell_type": "code",
   "execution_count": 30,
   "metadata": {},
   "outputs": [
    {
     "name": "stdout",
     "output_type": "stream",
     "text": [
      "The r-squared is: -0.22021946026318245\n"
     ]
    },
    {
     "data": {
      "image/png": "[encoded data removed]",
      "text/plain": [
       "<Figure size 432x288 with 1 Axes>"
      ]
     },
     "metadata": {
      "needs_background": "light"
     },
     "output_type": "display_data"
    }
   ],
   "source": [
    "#Name x and y values\n",
    "x_values7 = negativelat['Lat']\n",
    "y_values7 = negativelat['Wind Speed']\n",
    "\n",
    "# Run linear regression\n",
    "(slope, intercept, rvalue, pvalue, stderr) = linregress(x_values7, y_values7)\n",
    "regress_values = x_values7 * slope + intercept\n",
    "line_eq = \"y = \" + str(round(slope,2)) + \"x + \" + str(round(intercept,2))\n",
    "\n",
    "# Plot scatter plot\n",
    "plt.scatter(x_values7,y_values7)\n",
    "\n",
    "# Plot regression line\n",
    "plt.plot(x_values7,regress_values,\"r-\")\n",
    "plt.annotate(line_eq,(6,10),fontsize=15,color=\"red\")\n",
    "\n",
    "# Label plot\n",
    "plt.title(\"Southern Hemisphere Latitude vs. Wind Speed(mph)\")\n",
    "plt.xlabel('Latitude')\n",
    "plt.ylabel('Wind Speed(mph)')\n",
    "plt.grid()\n",
    "\n",
    "# Print r square value\n",
    "print(f\"The r-squared is: {rvalue}\")\n",
    "\n",
    "# Show plot and Save\n",
    "plt.savefig(\"SouthernWindSpeedvs.Latitude.png\")\n",
    "plt.show()"
   ]
  },
  {
   "cell_type": "markdown",
   "metadata": {},
   "source": [
    "3 Obersvable Trends based on the Data:\n",
    "1) The maximum wind speed of the cities in the Northern Hemisphere is greater than the maximum wind speed in the Southern Hemisphere.\n",
    "2) There is a higher percentage of cloudiness in the cities in Northern Hemisphere than in the Southern Hemisphere\n",
    "3) The max temp has a negative correlation slope in  the cities in the Northern Hemisphere while the max temp has a positive correlation slope in the Southern Hemisphere."
   ]
  }
 ],
 "metadata": {
  "kernelspec": {
   "display_name": "Python 3",
   "language": "python",
   "name": "python3"
  },
  "language_info": {
   "codemirror_mode": {
    "name": "ipython",
    "version": 3
   },
   "file_extension": ".py",
   "mimetype": "text/x-python",
   "name": "python",
   "nbconvert_exporter": "python",
   "pygments_lexer": "ipython3",
   "version": "3.6.9"
  }
 },
 "nbformat": 4,
 "nbformat_minor": 2
}
