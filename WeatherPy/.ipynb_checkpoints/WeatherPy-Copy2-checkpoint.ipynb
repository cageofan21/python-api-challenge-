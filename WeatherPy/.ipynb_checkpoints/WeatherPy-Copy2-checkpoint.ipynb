{
 "cells": [
  {
   "cell_type": "code",
   "execution_count": 1,
   "metadata": {},
   "outputs": [],
   "source": [
    "# Dependencies and Setup\n",
    "import matplotlib.pyplot as plt\n",
    "import pandas as pd\n",
    "import numpy as np\n",
    "import requests\n",
    "import time\n",
    "from scipy.stats import linregress\n",
    "\n",
    "\n",
    "# Import API key\n",
    "from api_keys import weather_api_key\n",
    "\n",
    "# Incorporated citipy to determine city based on latitude and longitude\n",
    "from citipy import citipy\n",
    "\n",
    "# Output File (CSV)\n",
    "output_data_file = \"output_data/cities.csv\"\n",
    "\n",
    "# Range of latitudes and longitudes\n",
    "lat_range = (-90, 90)\n",
    "lng_range = (-180, 180)"
   ]
  },
  {
   "cell_type": "code",
   "execution_count": 2,
   "metadata": {},
   "outputs": [
    {
     "data": {
      "text/plain": [
       "601"
      ]
     },
     "execution_count": 2,
     "metadata": {},
     "output_type": "execute_result"
    }
   ],
   "source": [
    "# List for holding lat_lngs and cities\n",
    "lat_lngs = []\n",
    "cities = []\n",
    "\n",
    "# Create a set of random lat and lng combinations\n",
    "lats = np.random.uniform(low=-90.000, high=90.000, size=1500)\n",
    "lngs = np.random.uniform(low=-180.000, high=180.000, size=1500)\n",
    "lat_lngs = zip(lats, lngs)\n",
    "\n",
    "# Identify nearest city for each lat, lng combination\n",
    "for lat_lng in lat_lngs:\n",
    "    city = citipy.nearest_city(lat_lng[0], lat_lng[1]).city_name\n",
    "    \n",
    "    \n",
    "    # If the city is unique, then add it to a our cities list\n",
    "    if city not in cities:\n",
    "        cities.append(city)\n",
    "\n",
    "# Print the city count to confirm sufficient count\n",
    "len(cities)"
   ]
  },
  {
   "cell_type": "code",
   "execution_count": 3,
   "metadata": {},
   "outputs": [],
   "source": [
    "url_two = \"http://api.openweathermap.org/data/2.5/weather?units=Imperial&APPID=\" + weather_api_key"
   ]
  },
  {
   "cell_type": "code",
   "execution_count": 4,
   "metadata": {},
   "outputs": [
    {
     "name": "stdout",
     "output_type": "stream",
     "text": [
      "http://api.openweathermap.org/data/2.5/weather?units=Imperial&APPID=018202ce994fe151514b7236daca8402&q=necochea\n"
     ]
    }
   ],
   "source": [
    "query_url_two = (f\"{url_two}&q={city}\")\n",
    "print(query_url_two)"
   ]
  },
  {
   "cell_type": "code",
   "execution_count": 5,
   "metadata": {},
   "outputs": [
    {
     "name": "stdout",
     "output_type": "stream",
     "text": [
      "Beginning Data Retrieval\n",
      "--------------------------------\n",
      "Processing Record 1 | Gore\n",
      "Processing Record 2 | Ushuaia\n",
      "Processing Record 3 | Atuona\n",
      "Processing Record 4 | Luganville\n",
      "Processing Record 5 | San Ramon\n",
      "Processing Record 6 | Carnarvon\n",
      "Processing Record 7 | Kazanskaya\n",
      "Processing Record 8 | Hermanus\n",
      "Processing Record 9 | Busselton\n",
      "Processing Record 10 | Don Luan\n",
      "Processing Record 11 | Yinchuan\n",
      "Processing Record 12 | Maragogi\n",
      "Processing Record 13 | Hobart\n",
      "Processing Record 14 | Kolpino\n",
      "Processing Record 15 | Albany\n",
      "Processing Record 16 | Hithadhoo\n",
      "Processing Record 17 | New Norfolk\n",
      "Processing Record 18 | Cumberland\n",
      "Processing Record 19 | Uttarkashi\n",
      "Processing Record 20 | Stykkisholmur\n",
      "Processing Record 21 | Salmas\n",
      "Processing Record 22 | Rio Grande\n",
      "Processing Record 23 | Cape Town\n",
      "Processing Record 24 | Coyhaique\n",
      "Processing Record 25 | Nalut\n",
      "Processing Record 26 | Tautira\n",
      "Processing Record 27 | Dunedin\n",
      "Processing Record 28 | Longyearbyen\n",
      "Processing Record 29 | Luanda\n",
      "Processing Record 30 | Huanren\n",
      "Processing Record 31 | Ahipara\n",
      "Processing Record 32 | Nabire\n",
      "Processing Record 33 | Aksarka\n",
      "Processing Record 34 | Hirna\n",
      "Processing Record 35 | Qaanaaq\n",
      "Processing Record 36 | Sangar\n",
      "Processing Record 37 | Tasiilaq\n",
      "Processing Record 38 | Rikitea\n",
      "Processing Record 39 | Baishishan\n",
      "Processing Record 40 | Dikson\n",
      "Processing Record 41 | Port Alfred\n",
      "Processing Record 42 | Bilma\n",
      "Processing Record 43 | Balclutha\n",
      "City not found. Skipping...\n",
      "Processing Record 44 | San Quintin\n",
      "Processing Record 45 | Trairi\n",
      "Processing Record 46 | Meulaboh\n",
      "Processing Record 47 | Puerto Ayora\n",
      "Processing Record 48 | A Coruna\n",
      "Processing Record 49 | Avarua\n",
      "Processing Record 50 | Okhotsk\n",
      "Processing Record 51 | Hilo\n",
      "Processing Record 52 | Ambon\n",
      "Processing Record 53 | Bathsheba\n",
      "Processing Record 54 | Dataganj\n",
      "City not found. Skipping...\n",
      "Processing Record 55 | Luderitz\n",
      "Processing Record 56 | Saskylakh\n",
      "Processing Record 57 | Khatanga\n",
      "Processing Record 58 | Dingle\n",
      "Processing Record 59 | Laxiong\n",
      "Processing Record 60 | Grand Gaube\n",
      "Processing Record 61 | Syra\n",
      "Processing Record 62 | Camenca\n",
      "City not found. Skipping...\n",
      "Processing Record 63 | Castro\n",
      "Processing Record 64 | Ribeira Grande\n",
      "Processing Record 65 | Torbay\n",
      "Processing Record 66 | Tilichiki\n",
      "Processing Record 67 | Juneau\n",
      "Processing Record 68 | Bredasdorp\n",
      "Processing Record 69 | Norman Wells\n",
      "City not found. Skipping...\n",
      "Processing Record 70 | Renfrew\n",
      "Processing Record 71 | Severo-Kuril'sk\n",
      "Processing Record 72 | Punta Arenas\n",
      "Processing Record 73 | Arraial do Cabo\n",
      "Processing Record 74 | Kavaratti\n",
      "City not found. Skipping...\n",
      "Processing Record 75 | Zhoucheng\n",
      "Processing Record 76 | Sao Jose da Coroa Grande\n",
      "City not found. Skipping...\n",
      "City not found. Skipping...\n",
      "Processing Record 77 | Yellowknife\n",
      "Processing Record 78 | San Patricio\n",
      "Processing Record 79 | Tuktoyaktuk\n",
      "Processing Record 80 | Petropavlovsk-Kamchatsky\n",
      "Processing Record 81 | Krutikha\n",
      "Processing Record 82 | Benjamin Constant\n",
      "Processing Record 83 | Teahupoo\n",
      "City not found. Skipping...\n",
      "Processing Record 84 | Mercedes\n",
      "Processing Record 85 | Nanortalik\n",
      "Processing Record 86 | Leshan\n",
      "Processing Record 87 | Bethel\n",
      "Processing Record 88 | Addis Ababa\n",
      "Processing Record 89 | Esim\n",
      "Processing Record 90 | Blackwater\n",
      "Processing Record 91 | Cao Bang\n",
      "Processing Record 92 | Requena\n",
      "Processing Record 93 | Vasto\n",
      "Processing Record 94 | Mkushi\n",
      "Processing Record 95 | Jamestown\n",
      "Processing Record 96 | Portland\n",
      "Processing Record 97 | Sistranda\n",
      "Processing Record 98 | Manokwari\n",
      "Processing Record 99 | Richards Bay\n",
      "Processing Record 100 | Whitehorse\n",
      "Processing Record 101 | Kapaa\n",
      "Processing Record 102 | Saint-Philippe\n",
      "Processing Record 103 | Awjilah\n",
      "Processing Record 104 | Dandeli\n",
      "Processing Record 105 | Landkreis Passau\n",
      "City not found. Skipping...\n",
      "Processing Record 106 | Tuxpan\n",
      "Processing Record 107 | Port Lincoln\n",
      "Processing Record 108 | Butaritari\n",
      "Processing Record 109 | Chokurdakh\n",
      "Processing Record 110 | Georgetown\n",
      "City not found. Skipping...\n",
      "Processing Record 111 | Acapulco de Juarez\n",
      "Processing Record 112 | Rundu\n",
      "Processing Record 113 | Catumbela\n",
      "Processing Record 114 | Flinders\n",
      "Processing Record 115 | Westport\n",
      "Processing Record 116 | Hajnowka\n",
      "Processing Record 117 | Provideniya\n",
      "Processing Record 118 | Esperance\n",
      "Processing Record 119 | Yokkaichi\n",
      "City not found. Skipping...\n",
      "Processing Record 120 | Bloomsburg\n",
      "Processing Record 121 | Lahat\n",
      "City not found. Skipping...\n",
      "Processing Record 122 | Geraldton\n",
      "Processing Record 123 | Roswell\n",
      "City not found. Skipping...\n",
      "Processing Record 124 | Batsfjord\n",
      "Processing Record 125 | Yanjiang\n",
      "City not found. Skipping...\n",
      "Processing Record 126 | Sept-Iles\n",
      "Processing Record 127 | Torquay\n",
      "Processing Record 128 | Klaksvik\n",
      "Processing Record 129 | Hammerfest\n",
      "Processing Record 130 | Boyolangu\n",
      "Processing Record 131 | Pingtung\n",
      "Processing Record 132 | Oytal\n",
      "Processing Record 133 | Azul\n",
      "Processing Record 134 | Sisimiut\n",
      "Processing Record 135 | Tallinn\n",
      "Processing Record 136 | Chepareria\n",
      "Processing Record 137 | Tahe\n",
      "City not found. Skipping...\n",
      "Processing Record 138 | Zheleznodorozhnyy\n",
      "Processing Record 139 | Pisco\n",
      "Processing Record 140 | Japura\n",
      "Processing Record 141 | Kamari\n",
      "Processing Record 142 | Ilulissat\n",
      "Processing Record 143 | Savannah\n",
      "Processing Record 144 | Tori-Fatehpur\n",
      "Processing Record 145 | Sao Miguel do Araguaia\n",
      "Processing Record 146 | Siniscola\n",
      "Processing Record 147 | Moyale\n",
      "Processing Record 148 | Tres Arroyos\n",
      "Processing Record 149 | Verin\n",
      "Processing Record 150 | La Ronge\n",
      "Processing Record 151 | Astana\n",
      "Processing Record 152 | Bambous Virieux\n",
      "Processing Record 153 | Valparaiso\n",
      "City not found. Skipping...\n",
      "Processing Record 154 | Orikum\n",
      "Processing Record 155 | Khulm\n",
      "Processing Record 156 | Togur\n",
      "Processing Record 157 | Igbor\n",
      "City not found. Skipping...\n",
      "Processing Record 158 | Tangshan\n",
      "City not found. Skipping...\n",
      "Processing Record 159 | Megion\n",
      "Processing Record 160 | Kahului\n",
      "Processing Record 161 | Anadyr\n",
      "Processing Record 162 | Fortaleza\n",
      "Processing Record 163 | 'Ayn al 'Arab\n",
      "Processing Record 164 | Vestmannaeyjar\n",
      "Processing Record 165 | Charente-Maritime\n",
      "Processing Record 166 | Mutoko\n",
      "Processing Record 167 | Caleta Olivia\n",
      "Processing Record 168 | Upernavik\n",
      "Processing Record 169 | Marquette\n",
      "Processing Record 170 | Mandalgovi\n",
      "Processing Record 171 | Binga\n",
      "Processing Record 172 | Manicore\n",
      "Processing Record 173 | Ales\n",
      "Processing Record 174 | Hualmay\n",
      "Processing Record 175 | Srednekolymsk\n",
      "Processing Record 176 | Anan\n",
      "Processing Record 177 | Gambela\n",
      "Processing Record 178 | Anzio\n",
      "Processing Record 179 | Taywarah\n",
      "Processing Record 180 | Sinnamary\n",
      "Processing Record 181 | Los Llanos de Aridane\n",
      "Processing Record 182 | Fare\n",
      "Processing Record 183 | Pacific Grove\n",
      "Processing Record 184 | Porto Nacional\n",
      "Processing Record 185 | Salalah\n",
      "Processing Record 186 | Itabirito\n",
      "Processing Record 187 | Tongle\n",
      "Processing Record 188 | Margate\n",
      "Processing Record 189 | Yairipok\n",
      "Processing Record 190 | Beringovskiy\n",
      "Processing Record 191 | Vrangel\n",
      "Processing Record 192 | Vostok\n",
      "Processing Record 193 | Batticaloa\n",
      "Processing Record 194 | Cherskiy\n",
      "Processing Record 195 | Rocha\n",
      "City not found. Skipping...\n",
      "Processing Record 196 | Panguna\n",
      "Processing Record 197 | Salaga\n",
      "City not found. Skipping...\n",
      "Processing Record 198 | Karratha\n",
      "Processing Record 199 | Kirkland Lake\n",
      "Processing Record 200 | Rabo de Peixe\n",
      "Processing Record 201 | Clearlake\n",
      "City not found. Skipping...\n",
      "Processing Record 202 | Pouembout\n",
      "Processing Record 203 | Aklavik\n",
      "Processing Record 204 | Talnakh\n",
      "Processing Record 205 | Guerrero Negro\n",
      "Processing Record 206 | Walvis Bay\n",
      "Processing Record 207 | Camacha\n",
      "Processing Record 208 | Santa Cruz de Tenerife\n",
      "Processing Record 209 | Chui\n",
      "Processing Record 210 | Kambaxoi\n",
      "Processing Record 211 | Sotnikovo\n",
      "Processing Record 212 | Vilcun\n",
      "Processing Record 213 | Dzhebariki-Khaya\n",
      "Processing Record 214 | Prince Albert\n",
      "Processing Record 215 | Deputatsky\n",
      "Processing Record 216 | Landkreis Hildesheim\n",
      "Processing Record 217 | Road Town\n",
      "Processing Record 218 | Gidole\n",
      "Processing Record 219 | Nueva Loja\n",
      "Processing Record 220 | Pevek\n",
      "Processing Record 221 | Progreso\n",
      "Processing Record 222 | Itoman\n",
      "Processing Record 223 | Verkhoyansk\n",
      "Processing Record 224 | Menongue\n",
      "Processing Record 225 | Tazovsky\n",
      "Processing Record 226 | Tuy Hoa\n",
      "Processing Record 227 | Ashland\n"
     ]
    },
    {
     "name": "stdout",
     "output_type": "stream",
     "text": [
      "Processing Record 228 | Alice Town\n",
      "Processing Record 229 | Jahanabad\n",
      "Processing Record 230 | Ulladulla\n",
      "Processing Record 231 | Puerto Escondido\n",
      "Processing Record 232 | Grindavik\n",
      "Processing Record 233 | Darlington\n",
      "Processing Record 234 | Masjid Jamie Baitul Muttaqien\n",
      "Processing Record 235 | Maturin\n",
      "Processing Record 236 | Meoqui\n",
      "Processing Record 237 | Porto Belo\n",
      "Processing Record 238 | Olho d'Agua\n",
      "Processing Record 239 | Assiut\n",
      "Processing Record 240 | Phan Thiet\n",
      "Processing Record 241 | Ainaro\n",
      "Processing Record 242 | Iqaluit\n",
      "Processing Record 243 | Payakumbuh\n",
      "Processing Record 244 | Tiksi\n",
      "City not found. Skipping...\n",
      "Processing Record 245 | Chapais\n",
      "Processing Record 246 | Zhanaozen\n",
      "Processing Record 247 | Phek\n",
      "Processing Record 248 | Piui\n",
      "Processing Record 249 | Igarka\n",
      "Processing Record 250 | Jaguaruana\n",
      "Processing Record 251 | Calama\n",
      "Processing Record 252 | Gimli\n",
      "Processing Record 253 | Huarmey\n",
      "Processing Record 254 | Gobabis\n",
      "Processing Record 255 | Toyama\n",
      "Processing Record 256 | Provinsi Kalimantan Selatan\n",
      "Processing Record 257 | Mossamedes\n",
      "Processing Record 258 | Alibag\n",
      "Processing Record 259 | Taltal\n",
      "Processing Record 260 | Sao Joao da Barra\n",
      "Processing Record 261 | Saquarema\n",
      "Processing Record 262 | Elko\n",
      "Processing Record 263 | Mahebourg\n",
      "Processing Record 264 | Hasaki\n",
      "Processing Record 265 | Campo Sesenta\n",
      "Processing Record 266 | Kandy\n",
      "Processing Record 267 | Thompson\n",
      "Processing Record 268 | Farsala\n",
      "Processing Record 269 | Chivilcoy\n",
      "City not found. Skipping...\n",
      "City not found. Skipping...\n",
      "Processing Record 270 | Dillon\n",
      "City not found. Skipping...\n",
      "Processing Record 271 | Teguise\n",
      "Processing Record 272 | Limbang\n",
      "Processing Record 273 | Lucea\n",
      "Processing Record 274 | Faanui\n",
      "Processing Record 275 | Chicama\n",
      "Processing Record 276 | Wrens\n",
      "Processing Record 277 | Verde Village\n",
      "Processing Record 278 | Pontiac\n",
      "City not found. Skipping...\n",
      "Processing Record 279 | Villena\n",
      "Processing Record 280 | Quatre Cocos\n",
      "Processing Record 281 | Makakilo City\n",
      "Processing Record 282 | Bubaque\n",
      "Processing Record 283 | Leh\n",
      "Processing Record 284 | Dali\n",
      "City not found. Skipping...\n",
      "Processing Record 285 | Bondo\n",
      "Processing Record 286 | Marsh Harbour\n",
      "Processing Record 287 | Mumford\n",
      "Processing Record 288 | Tuatapere\n",
      "Processing Record 289 | Belmonte\n",
      "Processing Record 290 | Half Moon Bay\n",
      "Processing Record 291 | Roald\n",
      "Processing Record 292 | Aquiraz\n",
      "Processing Record 293 | Yuryuzan\n",
      "Processing Record 294 | Cabo San Lucas\n",
      "Processing Record 295 | Bodden Town\n",
      "Processing Record 296 | Opuwo\n",
      "Processing Record 297 | Port-Gentil\n",
      "Processing Record 298 | Tura\n",
      "Processing Record 299 | Narsaq\n",
      "Processing Record 300 | Lasem\n",
      "Processing Record 301 | Peniche\n",
      "Processing Record 302 | Nantucket\n",
      "Processing Record 303 | Aleksandrovskoye\n",
      "Processing Record 304 | Say\n",
      "Processing Record 305 | Ixtapa\n",
      "Processing Record 306 | Washington\n",
      "Processing Record 307 | Bereket\n",
      "Processing Record 308 | Emba\n",
      "City not found. Skipping...\n",
      "City not found. Skipping...\n",
      "Processing Record 309 | Clyde River\n",
      "Processing Record 310 | Ponta Delgada\n",
      "Processing Record 311 | Segamat\n",
      "City not found. Skipping...\n",
      "Processing Record 312 | Apucarana\n",
      "Processing Record 313 | Santiago\n",
      "Processing Record 314 | Zhelyabovka\n",
      "Processing Record 315 | Alofi\n",
      "Processing Record 316 | Cayenne\n",
      "Processing Record 317 | Hobyo\n",
      "Processing Record 318 | Forio\n",
      "Processing Record 319 | Bemidji\n",
      "Processing Record 320 | Fili\n",
      "Processing Record 321 | Jhabua\n",
      "Processing Record 322 | My Tho\n",
      "Processing Record 323 | Bilibino\n",
      "Processing Record 324 | Shitanjing\n",
      "Processing Record 325 | Qaqortoq\n",
      "Processing Record 326 | Lolodorf\n",
      "Processing Record 327 | Arlit\n",
      "Processing Record 328 | Namie\n",
      "Processing Record 329 | Kisangani\n",
      "Processing Record 330 | Zeya\n",
      "Processing Record 331 | Umm Kaddadah\n",
      "Processing Record 332 | Porbandar\n",
      "City not found. Skipping...\n",
      "Processing Record 333 | Baykit\n",
      "Processing Record 334 | Chabahar\n",
      "City not found. Skipping...\n",
      "City not found. Skipping...\n",
      "Processing Record 335 | Kudahuvadhoo\n",
      "Processing Record 336 | Bam\n",
      "Processing Record 337 | East London\n",
      "Processing Record 338 | Sao Pedro da Cipa\n",
      "Processing Record 339 | Lampa\n",
      "Processing Record 340 | Iquique\n",
      "Processing Record 341 | Cidreira\n",
      "Processing Record 342 | Kumul\n",
      "Processing Record 343 | Mayumba\n",
      "Processing Record 344 | San Pedro Pochutla\n",
      "Processing Record 345 | Harper\n",
      "Processing Record 346 | Lompoc\n",
      "Processing Record 347 | Teguldet\n",
      "Processing Record 348 | Agirish\n",
      "Processing Record 349 | Jincheng\n",
      "Processing Record 350 | Hamilton\n",
      "Processing Record 351 | Gialo\n",
      "Processing Record 352 | Atar\n",
      "Processing Record 353 | Saint-Jerome\n",
      "Processing Record 354 | Bambanglipuro\n",
      "Processing Record 355 | Roros\n",
      "Processing Record 356 | Pangnirtung\n",
      "City not found. Skipping...\n",
      "Processing Record 357 | Goderich\n",
      "Processing Record 358 | Andros Town\n",
      "Processing Record 359 | Gachsaran\n",
      "Processing Record 360 | Patnanungan\n",
      "Processing Record 361 | Mersa Matruh\n",
      "Processing Record 362 | Marne\n",
      "Processing Record 363 | Nisab\n",
      "Processing Record 364 | Buala\n",
      "Processing Record 365 | Tocopilla\n",
      "Processing Record 366 | Slupsk\n",
      "Processing Record 367 | Yagodnoye\n",
      "Processing Record 368 | Modiin\n",
      "Processing Record 369 | Fort St. James\n",
      "Processing Record 370 | Coquimbo\n",
      "Processing Record 371 | Muros\n",
      "Processing Record 372 | Troitsko-Pechorsk\n",
      "Processing Record 373 | Mvuma\n",
      "Processing Record 374 | Kagadi\n",
      "Processing Record 375 | Zihuatanejo\n",
      "City not found. Skipping...\n",
      "Processing Record 376 | Luwuk\n",
      "Processing Record 377 | Suratgarh\n",
      "Processing Record 378 | Natal\n",
      "Processing Record 379 | Moosomin\n",
      "Processing Record 380 | Port Blair\n",
      "Processing Record 381 | Heyin\n",
      "Processing Record 382 | Maldonado\n",
      "Processing Record 383 | Nova Olimpia\n",
      "Processing Record 384 | Arys\n",
      "Processing Record 385 | Geilo\n",
      "Processing Record 386 | Kruisfontein\n",
      "Processing Record 387 | Sheregesh\n",
      "Processing Record 388 | Omboue\n",
      "Processing Record 389 | Falam\n",
      "Processing Record 390 | Koslan\n",
      "Processing Record 391 | Byron Bay\n",
      "Processing Record 392 | Avanuorri\n",
      "Processing Record 393 | Sindor\n",
      "Processing Record 394 | Owando\n",
      "Processing Record 395 | Qionghu\n",
      "Processing Record 396 | Ketchikan\n",
      "Processing Record 397 | Tacoronte\n",
      "Processing Record 398 | Paamiut\n",
      "Processing Record 399 | Vestmanna\n",
      "Processing Record 400 | Kutum\n",
      "Processing Record 401 | Leksvik\n",
      "Processing Record 402 | Cascais\n",
      "City not found. Skipping...\n",
      "Processing Record 403 | Yar-Sale\n",
      "City not found. Skipping...\n",
      "Processing Record 404 | Nha Trang\n",
      "Processing Record 405 | Kurilsk\n",
      "City not found. Skipping...\n",
      "Processing Record 406 | Hentiesbaai\n",
      "City not found. Skipping...\n",
      "Processing Record 407 | Yarmouth\n",
      "Processing Record 408 | Beccles\n",
      "Processing Record 409 | Fengzhen\n",
      "Processing Record 410 | Bujumbura\n",
      "Processing Record 411 | Chattanooga\n",
      "City not found. Skipping...\n",
      "City not found. Skipping...\n",
      "Processing Record 412 | Elizabeth City\n",
      "Processing Record 413 | Lahore\n",
      "Processing Record 414 | Aktau\n",
      "Processing Record 415 | Pleasant Grove\n",
      "Processing Record 416 | Farafenni\n",
      "Processing Record 417 | Iguape\n",
      "Processing Record 418 | Bonthe\n",
      "Processing Record 419 | Calgary\n",
      "Processing Record 420 | Kalach-na-Donu\n",
      "Processing Record 421 | Port Antonio\n",
      "Processing Record 422 | Port Hedland\n",
      "Processing Record 423 | Honiara\n",
      "Processing Record 424 | Brae\n",
      "Processing Record 425 | Sioux Lookout\n",
      "Processing Record 426 | Gerede\n",
      "City not found. Skipping...\n",
      "Processing Record 427 | Necochea\n",
      "Processing Record 428 | Tambovka\n",
      "Processing Record 429 | Am Timan\n",
      "Processing Record 430 | Bac Giang\n",
      "Processing Record 431 | Pedernales\n",
      "Processing Record 432 | Concepcion\n",
      "City not found. Skipping...\n",
      "Processing Record 433 | Comodoro Rivadavia\n",
      "Processing Record 434 | Petra\n",
      "Processing Record 435 | Yulara\n",
      "Processing Record 436 | Laminusa\n",
      "Processing Record 437 | Cristobal Obregon\n",
      "Processing Record 438 | Port Moresby\n",
      "Processing Record 439 | Poso\n",
      "Processing Record 440 | Shawnee\n",
      "Processing Record 441 | Caravelas\n",
      "Processing Record 442 | Hofn\n",
      "City not found. Skipping...\n",
      "City not found. Skipping...\n",
      "Processing Record 443 | Antibes\n",
      "City not found. Skipping...\n",
      "Processing Record 444 | Muriwai Beach\n",
      "City not found. Skipping...\n",
      "Processing Record 445 | Leningradskiy\n",
      "Processing Record 446 | Fairbanks\n",
      "City not found. Skipping...\n",
      "Processing Record 447 | Jumla\n",
      "Processing Record 448 | Pak Phanang\n",
      "Processing Record 449 | Pavlogradka\n",
      "Processing Record 450 | Arrondissement de La Chatre\n"
     ]
    },
    {
     "name": "stdout",
     "output_type": "stream",
     "text": [
      "Processing Record 451 | Alta Floresta\n",
      "Processing Record 452 | Saint-Francois\n",
      "City not found. Skipping...\n",
      "Processing Record 453 | Virovitica\n",
      "Processing Record 454 | Hirara\n",
      "City not found. Skipping...\n",
      "Processing Record 455 | Dakar\n",
      "Processing Record 456 | Kailua\n",
      "Processing Record 457 | Vilalba\n",
      "Processing Record 458 | San Andres\n",
      "Processing Record 459 | Raahe\n",
      "Processing Record 460 | Raymond\n",
      "Processing Record 461 | Ebebiyin\n",
      "Processing Record 462 | Bandarbeyla\n",
      "City not found. Skipping...\n",
      "Processing Record 463 | Penzance\n",
      "City not found. Skipping...\n",
      "City not found. Skipping...\n",
      "Processing Record 464 | Talcahuano\n",
      "Processing Record 465 | Goure\n",
      "Processing Record 466 | Anloga\n",
      "Processing Record 467 | Atbasar\n",
      "Processing Record 468 | Tunapuna/Piarco\n",
      "Processing Record 469 | Luwingu\n",
      "Processing Record 470 | Gonzalez\n",
      "Processing Record 471 | Tobermory\n",
      "Processing Record 472 | Tarpon Springs\n",
      "City not found. Skipping...\n",
      "Processing Record 473 | Uusikaupunki\n",
      "Processing Record 474 | Katesh\n",
      "Processing Record 475 | Moranbah\n",
      "Processing Record 476 | Vetlanda\n",
      "Processing Record 477 | Antofagasta\n",
      "Processing Record 478 | La Orilla\n",
      "Processing Record 479 | Mannum\n",
      "City not found. Skipping...\n",
      "Processing Record 480 | Touros\n",
      "Processing Record 481 | San Juan\n",
      "Processing Record 482 | Sorong\n",
      "Processing Record 483 | Soyo\n",
      "Processing Record 484 | Mount Isa\n",
      "Processing Record 485 | Mayna\n",
      "City not found. Skipping...\n",
      "Processing Record 486 | South Venice\n",
      "Processing Record 487 | Maralal\n",
      "Processing Record 488 | Arcata\n",
      "Processing Record 489 | La Paz\n",
      "Processing Record 490 | Rawson\n",
      "Processing Record 491 | Labuan\n",
      "Processing Record 492 | Samarai\n",
      "Processing Record 493 | Port Shepstone\n",
      "Processing Record 494 | Winnemucca\n",
      "Processing Record 495 | Synya\n",
      "Processing Record 496 | Marawi\n",
      "Processing Record 497 | Davila\n",
      "Processing Record 498 | Durango\n",
      "Processing Record 499 | Rapid Valley\n",
      "Processing Record 500 | Departamento de Presidente Hayes\n",
      "Processing Record 501 | Tamsalu\n",
      "City not found. Skipping...\n",
      "Processing Record 502 | Caparrapi\n",
      "Processing Record 503 | Kirensk\n",
      "Processing Record 504 | Qala\n",
      "Processing Record 505 | Port Hardy\n",
      "Processing Record 506 | Kununurra\n",
      "Processing Record 507 | Kargasok\n",
      "Processing Record 508 | Bhadarwah\n",
      "Processing Record 509 | Punta Gorda\n",
      "Processing Record 510 | Champoton\n",
      "Processing Record 511 | Irece\n",
      "Processing Record 512 | Mogadishu\n",
      "Processing Record 513 | Sambalpur\n",
      "Processing Record 514 | Seoul\n",
      "Processing Record 515 | Iizuka\n",
      "Processing Record 516 | Vanavara\n",
      "City not found. Skipping...\n",
      "Processing Record 517 | Sao Filipe\n",
      "Processing Record 518 | Beauceville\n",
      "Processing Record 519 | Ulaangom\n",
      "Processing Record 520 | Kyenjojo\n",
      "Processing Record 521 | Kavieng\n",
      "Processing Record 522 | Millerovo\n",
      "Processing Record 523 | Tokyo\n",
      "Processing Record 524 | Minjian\n",
      "Processing Record 525 | Smithers\n",
      "City not found. Skipping...\n",
      "Processing Record 526 | Karasburg\n",
      "Processing Record 527 | Abha\n",
      "Processing Record 528 | Severo-Yeniseyskiy\n",
      "Processing Record 529 | Benghazi\n",
      "City not found. Skipping...\n",
      "Processing Record 530 | Adh Dhayd\n",
      "City not found. Skipping...\n",
      "Processing Record 531 | Shorewood\n",
      "Processing Record 532 | Matelandia\n",
      "Processing Record 533 | Paciran\n",
      "Processing Record 534 | Santa Marta\n",
      "Processing Record 535 | Bourail\n",
      "City not found. Skipping...\n",
      "Processing Record 536 | Para de Minas\n",
      "Processing Record 537 | Nouadhibou\n",
      "Processing Record 538 | Myingyan\n",
      "Processing Record 539 | Auly\n",
      "---------------------------\n",
      "Data Retrieval Complete\n",
      "----------------------------\n"
     ]
    }
   ],
   "source": [
    "# Get weather data\n",
    "cities_list1 = []\n",
    "cloudy_list1 = []\n",
    "country_list1 = []\n",
    "date_list1 = []\n",
    "humidity_list1 = []\n",
    "lat_list1 = []\n",
    "long_list1 = []\n",
    "maxtemp_list1 = []\n",
    "windspeed_list1 = []\n",
    "recordone = 1\n",
    "\n",
    "print(f\"Beginning Data Retrieval\")\n",
    "print(f\"--------------------------------\")\n",
    "\n",
    "for city in cities: \n",
    "    try:\n",
    "        weather_responseone = requests.get(f\"{url_two}&q={city}\").json()\n",
    "        cities_list1.append(weather_responseone[\"name\"])\n",
    "        cloudy_list1.append(weather_responseone[\"clouds\"][\"all\"])\n",
    "        country_list1.append(weather_responseone[\"sys\"][\"country\"])\n",
    "        date_list1.append(weather_responseone[\"dt\"])\n",
    "        humidity_list1.append(weather_responseone[\"main\"][\"humidity\"])\n",
    "        lat_list1.append(weather_responseone[\"coord\"][\"lat\"])\n",
    "        long_list1.append(weather_responseone[\"coord\"][\"lon\"])\n",
    "        maxtemp_list1.append(weather_responseone[\"main\"][\"temp_max\"])\n",
    "        windspeed_list1.append(weather_responseone[\"wind\"][\"speed\"])\n",
    "        cityname_info1 = (weather_responseone[\"name\"])\n",
    "\n",
    "        print(f\"Processing Record {recordone} | {cityname_info1}\")\n",
    "\n",
    "        recordone +=1 \n",
    "      \n",
    "        time.sleep(2.00)\n",
    "      \n",
    "    except:\n",
    "        print(f\"City not found. Skipping...\")\n",
    "    continue\n",
    "\n",
    "print(f\"---------------------------\")\n",
    "print(f\"Data Retrieval Complete\")\n",
    "print(f\"----------------------------\")"
   ]
  },
  {
   "cell_type": "code",
   "execution_count": 6,
   "metadata": {},
   "outputs": [
    {
     "data": {
      "text/plain": [
       "City          539\n",
       "Cloudiness    539\n",
       "Country       539\n",
       "Date          539\n",
       "Humidity      539\n",
       "Lat           539\n",
       "Lng           539\n",
       "Max Temp      539\n",
       "Wind Speed    539\n",
       "dtype: int64"
      ]
     },
     "execution_count": 6,
     "metadata": {},
     "output_type": "execute_result"
    }
   ],
   "source": [
    "weather_dic = {\"City\": cities_list1, \"Cloudiness\": cloudy_list1, \"Country\": country_list1, \n",
    "               \"Date\": date_list1,\"Humidity\":humidity_list1, \"Lat\": lat_list1, \"Lng\": long_list1, \n",
    "               \"Max Temp\": maxtemp_list1, \"Wind Speed\": windspeed_list1}\n",
    "weather_df = pd.DataFrame(weather_dic)\n",
    "weather_df.count()"
   ]
  },
  {
   "cell_type": "markdown",
   "metadata": {},
   "source": [
    "# City DataFrame"
   ]
  },
  {
   "cell_type": "code",
   "execution_count": 7,
   "metadata": {},
   "outputs": [
    {
     "data": {
      "text/html": [
       "<div>\n",
       "<style scoped>\n",
       "    .dataframe tbody tr th:only-of-type {\n",
       "        vertical-align: middle;\n",
       "    }\n",
       "\n",
       "    .dataframe tbody tr th {\n",
       "        vertical-align: top;\n",
       "    }\n",
       "\n",
       "    .dataframe thead th {\n",
       "        text-align: right;\n",
       "    }\n",
       "</style>\n",
       "<table border=\"1\" class=\"dataframe\">\n",
       "  <thead>\n",
       "    <tr style=\"text-align: right;\">\n",
       "      <th></th>\n",
       "      <th>City</th>\n",
       "      <th>Cloudiness</th>\n",
       "      <th>Country</th>\n",
       "      <th>Date</th>\n",
       "      <th>Humidity</th>\n",
       "      <th>Lat</th>\n",
       "      <th>Lng</th>\n",
       "      <th>Max Temp</th>\n",
       "      <th>Wind Speed</th>\n",
       "    </tr>\n",
       "  </thead>\n",
       "  <tbody>\n",
       "    <tr>\n",
       "      <th>0</th>\n",
       "      <td>Gore</td>\n",
       "      <td>100</td>\n",
       "      <td>NZ</td>\n",
       "      <td>1578602271</td>\n",
       "      <td>73</td>\n",
       "      <td>-46.19</td>\n",
       "      <td>168.86</td>\n",
       "      <td>57.00</td>\n",
       "      <td>13.00</td>\n",
       "    </tr>\n",
       "    <tr>\n",
       "      <th>1</th>\n",
       "      <td>Ushuaia</td>\n",
       "      <td>75</td>\n",
       "      <td>AR</td>\n",
       "      <td>1578602273</td>\n",
       "      <td>87</td>\n",
       "      <td>-54.81</td>\n",
       "      <td>-68.31</td>\n",
       "      <td>42.80</td>\n",
       "      <td>38.03</td>\n",
       "    </tr>\n",
       "    <tr>\n",
       "      <th>2</th>\n",
       "      <td>Atuona</td>\n",
       "      <td>20</td>\n",
       "      <td>PF</td>\n",
       "      <td>1578602275</td>\n",
       "      <td>76</td>\n",
       "      <td>-9.80</td>\n",
       "      <td>-139.03</td>\n",
       "      <td>81.97</td>\n",
       "      <td>21.68</td>\n",
       "    </tr>\n",
       "    <tr>\n",
       "      <th>3</th>\n",
       "      <td>Luganville</td>\n",
       "      <td>75</td>\n",
       "      <td>VU</td>\n",
       "      <td>1578602277</td>\n",
       "      <td>100</td>\n",
       "      <td>-15.51</td>\n",
       "      <td>167.18</td>\n",
       "      <td>77.00</td>\n",
       "      <td>4.70</td>\n",
       "    </tr>\n",
       "    <tr>\n",
       "      <th>4</th>\n",
       "      <td>San Ramon</td>\n",
       "      <td>75</td>\n",
       "      <td>NI</td>\n",
       "      <td>1578602279</td>\n",
       "      <td>94</td>\n",
       "      <td>12.92</td>\n",
       "      <td>-85.84</td>\n",
       "      <td>69.80</td>\n",
       "      <td>13.87</td>\n",
       "    </tr>\n",
       "  </tbody>\n",
       "</table>\n",
       "</div>"
      ],
      "text/plain": [
       "         City  Cloudiness Country        Date  Humidity    Lat     Lng  \\\n",
       "0        Gore         100      NZ  1578602271        73 -46.19  168.86   \n",
       "1     Ushuaia          75      AR  1578602273        87 -54.81  -68.31   \n",
       "2      Atuona          20      PF  1578602275        76  -9.80 -139.03   \n",
       "3  Luganville          75      VU  1578602277       100 -15.51  167.18   \n",
       "4   San Ramon          75      NI  1578602279        94  12.92  -85.84   \n",
       "\n",
       "   Max Temp  Wind Speed  \n",
       "0     57.00       13.00  \n",
       "1     42.80       38.03  \n",
       "2     81.97       21.68  \n",
       "3     77.00        4.70  \n",
       "4     69.80       13.87  "
      ]
     },
     "execution_count": 7,
     "metadata": {},
     "output_type": "execute_result"
    }
   ],
   "source": [
    "weather_df.head()"
   ]
  },
  {
   "cell_type": "code",
   "execution_count": 8,
   "metadata": {},
   "outputs": [],
   "source": [
    "#Exporting City DataFrame in a CSV:\n",
    "weather_df.to_csv(\"weather_df.csv\")"
   ]
  },
  {
   "cell_type": "markdown",
   "metadata": {},
   "source": [
    "# Latitude vs Temperature Plot"
   ]
  },
  {
   "cell_type": "code",
   "execution_count": 9,
   "metadata": {},
   "outputs": [
    {
     "data": {
      "image/png": "[encoded data removed]",
      "text/plain": [
       "<Figure size 432x288 with 1 Axes>"
      ]
     },
     "metadata": {
      "needs_background": "light"
     },
     "output_type": "display_data"
    }
   ],
   "source": [
    "plt.title(\"City Latitude vs. Max Temperature(F)\")\n",
    "plt.xlabel(\"Latitude\")\n",
    "plt.ylabel (\"Max Temperature(F)\")\n",
    "plt.grid()\n",
    "\n",
    "plt.scatter(weather_df[\"Lat\"], weather_df[\"Max Temp\"], marker = \"o\")\n",
    "plt.savefig(\"Temperaturevs.Latitude.png\")\n",
    "plt.show()"
   ]
  },
  {
   "cell_type": "markdown",
   "metadata": {},
   "source": [
    "Description: This chart shows the citys's latitudes providing a general decreading trend of temperature as the latitude increases."
   ]
  },
  {
   "cell_type": "markdown",
   "metadata": {},
   "source": [
    "# Latitude vs. Humidity Plot"
   ]
  },
  {
   "cell_type": "code",
   "execution_count": 10,
   "metadata": {},
   "outputs": [
    {
     "data": {
      "image/png": "[encoded data removed]",
      "text/plain": [
       "<Figure size 432x288 with 1 Axes>"
      ]
     },
     "metadata": {
      "needs_background": "light"
     },
     "output_type": "display_data"
    }
   ],
   "source": [
    "plt.title(\"City Latitude vs. Humidity(%)\")\n",
    "plt.xlabel(\"Latitude\")\n",
    "plt.ylabel (\"Humidity(%)\")\n",
    "plt.grid()\n",
    "\n",
    "plt.scatter(weather_df[\"Lat\"], weather_df[\"Humidity\"], marker = \"o\")\n",
    "plt.savefig(\"Temperaturevs.Humidity.png\")\n",
    "plt.show()"
   ]
  },
  {
   "cell_type": "markdown",
   "metadata": {},
   "source": [
    "Description: This plot shows the latitudes of the following the cities. It's really hard to tell a relationship. For cities with humidities less than 20%, they generally have a smaller latitude. "
   ]
  },
  {
   "cell_type": "markdown",
   "metadata": {},
   "source": [
    "# Latitude vs. Cloudiness"
   ]
  },
  {
   "cell_type": "code",
   "execution_count": 11,
   "metadata": {},
   "outputs": [
    {
     "data": {
      "image/png": "[encoded data removed]",
      "text/plain": [
       "<Figure size 432x288 with 1 Axes>"
      ]
     },
     "metadata": {
      "needs_background": "light"
     },
     "output_type": "display_data"
    }
   ],
   "source": [
    "plt.title(\"City Latitude vs. Cloudiness(%)\")\n",
    "plt.xlabel(\"Latitude\")\n",
    "plt.ylabel (\"Cloudiness(%)\")\n",
    "plt.grid()\n",
    "\n",
    "plt.scatter(weather_df[\"Lat\"], weather_df[\"Cloudiness\"], marker = \"o\")\n",
    "plt.savefig(\"Temperaturevs.Cloudiness.png\")\n",
    "plt.show()"
   ]
  },
  {
   "cell_type": "markdown",
   "metadata": {},
   "source": [
    "Description:The following chart shows the Cloudiness(%) over the Latitude coordinates. The values are dispersed and hence it's really hard to detect a fundamental pattern just by looking."
   ]
  },
  {
   "cell_type": "markdown",
   "metadata": {},
   "source": [
    "# Latitude vs. Wind Speed(mph) Plot"
   ]
  },
  {
   "cell_type": "code",
   "execution_count": 12,
   "metadata": {},
   "outputs": [
    {
     "data": {
      "image/png": "[encoded data removed]",
      "text/plain": [
       "<Figure size 432x288 with 1 Axes>"
      ]
     },
     "metadata": {
      "needs_background": "light"
     },
     "output_type": "display_data"
    }
   ],
   "source": [
    "plt.title(\"City Latitude vs. Wind Speed(mph)\")\n",
    "plt.xlabel(\"Latitude\")\n",
    "plt.ylabel (\"Wind Speed(mph)\")\n",
    "plt.grid()\n",
    "\n",
    "plt.scatter(weather_df[\"Lat\"], weather_df[\"Wind Speed\"], marker = \"o\")\n",
    "plt.savefig(\"Temperaturevs.WindSpeed.png\")\n",
    "plt.show()"
   ]
  },
  {
   "cell_type": "markdown",
   "metadata": {},
   "source": [
    "Description: This plot shows that wind speed is generally less than 20 mph for majority of the cities in correlation to their latitude."
   ]
  },
  {
   "cell_type": "markdown",
   "metadata": {},
   "source": [
    "# Linear Regression "
   ]
  },
  {
   "cell_type": "markdown",
   "metadata": {},
   "source": [
    "####  Southern Hemisphere DataFrame"
   ]
  },
  {
   "cell_type": "code",
   "execution_count": 13,
   "metadata": {},
   "outputs": [
    {
     "data": {
      "text/html": [
       "<div>\n",
       "<style scoped>\n",
       "    .dataframe tbody tr th:only-of-type {\n",
       "        vertical-align: middle;\n",
       "    }\n",
       "\n",
       "    .dataframe tbody tr th {\n",
       "        vertical-align: top;\n",
       "    }\n",
       "\n",
       "    .dataframe thead th {\n",
       "        text-align: right;\n",
       "    }\n",
       "</style>\n",
       "<table border=\"1\" class=\"dataframe\">\n",
       "  <thead>\n",
       "    <tr style=\"text-align: right;\">\n",
       "      <th></th>\n",
       "      <th>City</th>\n",
       "      <th>Cloudiness</th>\n",
       "      <th>Country</th>\n",
       "      <th>Date</th>\n",
       "      <th>Humidity</th>\n",
       "      <th>Lat</th>\n",
       "      <th>Lng</th>\n",
       "      <th>Max Temp</th>\n",
       "      <th>Wind Speed</th>\n",
       "    </tr>\n",
       "  </thead>\n",
       "  <tbody>\n",
       "    <tr>\n",
       "      <th>0</th>\n",
       "      <td>Gore</td>\n",
       "      <td>100</td>\n",
       "      <td>NZ</td>\n",
       "      <td>1578602271</td>\n",
       "      <td>73</td>\n",
       "      <td>-46.19</td>\n",
       "      <td>168.86</td>\n",
       "      <td>57.00</td>\n",
       "      <td>13.00</td>\n",
       "    </tr>\n",
       "    <tr>\n",
       "      <th>1</th>\n",
       "      <td>Ushuaia</td>\n",
       "      <td>75</td>\n",
       "      <td>AR</td>\n",
       "      <td>1578602273</td>\n",
       "      <td>87</td>\n",
       "      <td>-54.81</td>\n",
       "      <td>-68.31</td>\n",
       "      <td>42.80</td>\n",
       "      <td>38.03</td>\n",
       "    </tr>\n",
       "    <tr>\n",
       "      <th>2</th>\n",
       "      <td>Atuona</td>\n",
       "      <td>20</td>\n",
       "      <td>PF</td>\n",
       "      <td>1578602275</td>\n",
       "      <td>76</td>\n",
       "      <td>-9.80</td>\n",
       "      <td>-139.03</td>\n",
       "      <td>81.97</td>\n",
       "      <td>21.68</td>\n",
       "    </tr>\n",
       "    <tr>\n",
       "      <th>3</th>\n",
       "      <td>Luganville</td>\n",
       "      <td>75</td>\n",
       "      <td>VU</td>\n",
       "      <td>1578602277</td>\n",
       "      <td>100</td>\n",
       "      <td>-15.51</td>\n",
       "      <td>167.18</td>\n",
       "      <td>77.00</td>\n",
       "      <td>4.70</td>\n",
       "    </tr>\n",
       "    <tr>\n",
       "      <th>5</th>\n",
       "      <td>Carnarvon</td>\n",
       "      <td>0</td>\n",
       "      <td>ZA</td>\n",
       "      <td>1578602203</td>\n",
       "      <td>65</td>\n",
       "      <td>-30.97</td>\n",
       "      <td>22.13</td>\n",
       "      <td>66.56</td>\n",
       "      <td>20.42</td>\n",
       "    </tr>\n",
       "  </tbody>\n",
       "</table>\n",
       "</div>"
      ],
      "text/plain": [
       "         City  Cloudiness Country        Date  Humidity    Lat     Lng  \\\n",
       "0        Gore         100      NZ  1578602271        73 -46.19  168.86   \n",
       "1     Ushuaia          75      AR  1578602273        87 -54.81  -68.31   \n",
       "2      Atuona          20      PF  1578602275        76  -9.80 -139.03   \n",
       "3  Luganville          75      VU  1578602277       100 -15.51  167.18   \n",
       "5   Carnarvon           0      ZA  1578602203        65 -30.97   22.13   \n",
       "\n",
       "   Max Temp  Wind Speed  \n",
       "0     57.00       13.00  \n",
       "1     42.80       38.03  \n",
       "2     81.97       21.68  \n",
       "3     77.00        4.70  \n",
       "5     66.56       20.42  "
      ]
     },
     "execution_count": 13,
     "metadata": {},
     "output_type": "execute_result"
    }
   ],
   "source": [
    "negativelat = weather_df.loc[(weather_df[\"Lat\"] < 0)]\n",
    "negativelat.head()"
   ]
  },
  {
   "cell_type": "code",
   "execution_count": 14,
   "metadata": {},
   "outputs": [
    {
     "data": {
      "text/plain": [
       "City\n",
       "Gore            -46.19\n",
       "Ushuaia         -54.81\n",
       "Atuona           -9.80\n",
       "Luganville      -15.51\n",
       "Carnarvon       -30.97\n",
       "                 ...  \n",
       "Karasburg       -28.01\n",
       "Matelandia      -25.24\n",
       "Paciran          -6.90\n",
       "Bourail         -21.57\n",
       "Para de Minas   -19.86\n",
       "Name: Lat, Length: 159, dtype: float64"
      ]
     },
     "execution_count": 14,
     "metadata": {},
     "output_type": "execute_result"
    }
   ],
   "source": [
    "citiesinSouthernH = negativelat.set_index([\"City\"])[\"Lat\"]\n",
    "citiesinSouthernH"
   ]
  },
  {
   "cell_type": "code",
   "execution_count": 15,
   "metadata": {},
   "outputs": [
    {
     "data": {
      "text/plain": [
       "City\n",
       "Gore          168.86\n",
       "Ushuaia       -68.31\n",
       "Atuona       -139.03\n",
       "Luganville    167.18\n",
       "Carnarvon      22.13\n",
       "Name: Lng, dtype: float64"
      ]
     },
     "execution_count": 15,
     "metadata": {},
     "output_type": "execute_result"
    }
   ],
   "source": [
    "southern_hemisph = negativelat.set_index([\"City\"])[\"Lng\"]\n",
    "southern_hemisph.head()"
   ]
  },
  {
   "cell_type": "markdown",
   "metadata": {},
   "source": [
    "#### Breaking Down to Lat/Lng in Southern Hemisphere"
   ]
  },
  {
   "cell_type": "code",
   "execution_count": 16,
   "metadata": {},
   "outputs": [
    {
     "data": {
      "text/html": [
       "<div>\n",
       "<style scoped>\n",
       "    .dataframe tbody tr th:only-of-type {\n",
       "        vertical-align: middle;\n",
       "    }\n",
       "\n",
       "    .dataframe tbody tr th {\n",
       "        vertical-align: top;\n",
       "    }\n",
       "\n",
       "    .dataframe thead th {\n",
       "        text-align: right;\n",
       "    }\n",
       "</style>\n",
       "<table border=\"1\" class=\"dataframe\">\n",
       "  <thead>\n",
       "    <tr style=\"text-align: right;\">\n",
       "      <th></th>\n",
       "      <th>Lat in Southern Hemisph</th>\n",
       "      <th>Lng in Southern Hemisph</th>\n",
       "    </tr>\n",
       "    <tr>\n",
       "      <th>City</th>\n",
       "      <th></th>\n",
       "      <th></th>\n",
       "    </tr>\n",
       "  </thead>\n",
       "  <tbody>\n",
       "    <tr>\n",
       "      <th>Gore</th>\n",
       "      <td>-46.19</td>\n",
       "      <td>168.86</td>\n",
       "    </tr>\n",
       "    <tr>\n",
       "      <th>Ushuaia</th>\n",
       "      <td>-54.81</td>\n",
       "      <td>-68.31</td>\n",
       "    </tr>\n",
       "    <tr>\n",
       "      <th>Atuona</th>\n",
       "      <td>-9.80</td>\n",
       "      <td>-139.03</td>\n",
       "    </tr>\n",
       "    <tr>\n",
       "      <th>Luganville</th>\n",
       "      <td>-15.51</td>\n",
       "      <td>167.18</td>\n",
       "    </tr>\n",
       "    <tr>\n",
       "      <th>Carnarvon</th>\n",
       "      <td>-30.97</td>\n",
       "      <td>22.13</td>\n",
       "    </tr>\n",
       "  </tbody>\n",
       "</table>\n",
       "</div>"
      ],
      "text/plain": [
       "            Lat in Southern Hemisph  Lng in Southern Hemisph\n",
       "City                                                        \n",
       "Gore                         -46.19                   168.86\n",
       "Ushuaia                      -54.81                   -68.31\n",
       "Atuona                        -9.80                  -139.03\n",
       "Luganville                   -15.51                   167.18\n",
       "Carnarvon                    -30.97                    22.13"
      ]
     },
     "execution_count": 16,
     "metadata": {},
     "output_type": "execute_result"
    }
   ],
   "source": [
    "citiesinSouthernH1 = pd.DataFrame({\n",
    "    \"Lat in Southern Hemisph\": citiesinSouthernH, \"Lng in Southern Hemisph\":southern_hemisph})\n",
    "\n",
    "citiesinSouthernH1.head()"
   ]
  },
  {
   "cell_type": "code",
   "execution_count": 17,
   "metadata": {},
   "outputs": [],
   "source": [
    "#Exporting Southern Hemisphere Data in a CSV:\n",
    "negativelat.to_csv('negativelat.csv')\n",
    "\n",
    "#Exporting Southern Hemisphere Data with only Latitude and Longitude in a CSV:\n",
    "citiesinSouthernH1.to_csv('citiesinSouthernH1.csv')"
   ]
  },
  {
   "cell_type": "markdown",
   "metadata": {},
   "source": [
    "#  Northern Hemisphere DataFrame"
   ]
  },
  {
   "cell_type": "code",
   "execution_count": 18,
   "metadata": {},
   "outputs": [
    {
     "data": {
      "text/html": [
       "<div>\n",
       "<style scoped>\n",
       "    .dataframe tbody tr th:only-of-type {\n",
       "        vertical-align: middle;\n",
       "    }\n",
       "\n",
       "    .dataframe tbody tr th {\n",
       "        vertical-align: top;\n",
       "    }\n",
       "\n",
       "    .dataframe thead th {\n",
       "        text-align: right;\n",
       "    }\n",
       "</style>\n",
       "<table border=\"1\" class=\"dataframe\">\n",
       "  <thead>\n",
       "    <tr style=\"text-align: right;\">\n",
       "      <th></th>\n",
       "      <th>City</th>\n",
       "      <th>Cloudiness</th>\n",
       "      <th>Country</th>\n",
       "      <th>Date</th>\n",
       "      <th>Humidity</th>\n",
       "      <th>Lat</th>\n",
       "      <th>Lng</th>\n",
       "      <th>Max Temp</th>\n",
       "      <th>Wind Speed</th>\n",
       "    </tr>\n",
       "  </thead>\n",
       "  <tbody>\n",
       "    <tr>\n",
       "      <th>4</th>\n",
       "      <td>San Ramon</td>\n",
       "      <td>75</td>\n",
       "      <td>NI</td>\n",
       "      <td>1578602279</td>\n",
       "      <td>94</td>\n",
       "      <td>12.92</td>\n",
       "      <td>-85.84</td>\n",
       "      <td>69.80</td>\n",
       "      <td>13.87</td>\n",
       "    </tr>\n",
       "    <tr>\n",
       "      <th>6</th>\n",
       "      <td>Kazanskaya</td>\n",
       "      <td>100</td>\n",
       "      <td>RU</td>\n",
       "      <td>1578602283</td>\n",
       "      <td>95</td>\n",
       "      <td>45.41</td>\n",
       "      <td>40.44</td>\n",
       "      <td>34.00</td>\n",
       "      <td>3.33</td>\n",
       "    </tr>\n",
       "    <tr>\n",
       "      <th>9</th>\n",
       "      <td>Don Luan</td>\n",
       "      <td>59</td>\n",
       "      <td>VN</td>\n",
       "      <td>1578602290</td>\n",
       "      <td>73</td>\n",
       "      <td>11.53</td>\n",
       "      <td>106.92</td>\n",
       "      <td>70.50</td>\n",
       "      <td>3.15</td>\n",
       "    </tr>\n",
       "    <tr>\n",
       "      <th>10</th>\n",
       "      <td>Yinchuan</td>\n",
       "      <td>100</td>\n",
       "      <td>CN</td>\n",
       "      <td>1578602292</td>\n",
       "      <td>68</td>\n",
       "      <td>38.48</td>\n",
       "      <td>106.21</td>\n",
       "      <td>19.49</td>\n",
       "      <td>0.94</td>\n",
       "    </tr>\n",
       "    <tr>\n",
       "      <th>13</th>\n",
       "      <td>Kolpino</td>\n",
       "      <td>75</td>\n",
       "      <td>RU</td>\n",
       "      <td>1578602298</td>\n",
       "      <td>80</td>\n",
       "      <td>59.70</td>\n",
       "      <td>30.79</td>\n",
       "      <td>36.00</td>\n",
       "      <td>6.71</td>\n",
       "    </tr>\n",
       "  </tbody>\n",
       "</table>\n",
       "</div>"
      ],
      "text/plain": [
       "          City  Cloudiness Country        Date  Humidity    Lat     Lng  \\\n",
       "4    San Ramon          75      NI  1578602279        94  12.92  -85.84   \n",
       "6   Kazanskaya         100      RU  1578602283        95  45.41   40.44   \n",
       "9     Don Luan          59      VN  1578602290        73  11.53  106.92   \n",
       "10    Yinchuan         100      CN  1578602292        68  38.48  106.21   \n",
       "13     Kolpino          75      RU  1578602298        80  59.70   30.79   \n",
       "\n",
       "    Max Temp  Wind Speed  \n",
       "4      69.80       13.87  \n",
       "6      34.00        3.33  \n",
       "9      70.50        3.15  \n",
       "10     19.49        0.94  \n",
       "13     36.00        6.71  "
      ]
     },
     "execution_count": 18,
     "metadata": {},
     "output_type": "execute_result"
    }
   ],
   "source": [
    "negativelatinN = weather_df.loc[(weather_df[\"Lat\"] >= 0)]\n",
    "negativelatinN.head()"
   ]
  },
  {
   "cell_type": "code",
   "execution_count": 19,
   "metadata": {},
   "outputs": [
    {
     "data": {
      "text/plain": [
       "City\n",
       "San Ramon     12.92\n",
       "Kazanskaya    45.41\n",
       "Don Luan      11.53\n",
       "Yinchuan      38.48\n",
       "Kolpino       59.70\n",
       "Name: Lat, dtype: float64"
      ]
     },
     "execution_count": 19,
     "metadata": {},
     "output_type": "execute_result"
    }
   ],
   "source": [
    "citiesinNorthernH = negativelatinN.set_index([\"City\"])[\"Lat\"]\n",
    "citiesinNorthernH.head()"
   ]
  },
  {
   "cell_type": "code",
   "execution_count": 20,
   "metadata": {},
   "outputs": [
    {
     "data": {
      "text/plain": [
       "City\n",
       "San Ramon     -85.84\n",
       "Kazanskaya     40.44\n",
       "Don Luan      106.92\n",
       "Yinchuan      106.21\n",
       "Kolpino        30.79\n",
       "Name: Lng, dtype: float64"
      ]
     },
     "execution_count": 20,
     "metadata": {},
     "output_type": "execute_result"
    }
   ],
   "source": [
    "northern_hemisph = negativelatinN.set_index([\"City\"])[\"Lng\"]\n",
    "northern_hemisph.head()"
   ]
  },
  {
   "cell_type": "markdown",
   "metadata": {},
   "source": [
    "#### Breaking Down to Lat/Lng in Northern Hemisphere"
   ]
  },
  {
   "cell_type": "code",
   "execution_count": 21,
   "metadata": {},
   "outputs": [
    {
     "data": {
      "text/html": [
       "<div>\n",
       "<style scoped>\n",
       "    .dataframe tbody tr th:only-of-type {\n",
       "        vertical-align: middle;\n",
       "    }\n",
       "\n",
       "    .dataframe tbody tr th {\n",
       "        vertical-align: top;\n",
       "    }\n",
       "\n",
       "    .dataframe thead th {\n",
       "        text-align: right;\n",
       "    }\n",
       "</style>\n",
       "<table border=\"1\" class=\"dataframe\">\n",
       "  <thead>\n",
       "    <tr style=\"text-align: right;\">\n",
       "      <th></th>\n",
       "      <th>Lat in Northern Hemisph</th>\n",
       "      <th>Lng in Northern Hemisph</th>\n",
       "    </tr>\n",
       "    <tr>\n",
       "      <th>City</th>\n",
       "      <th></th>\n",
       "      <th></th>\n",
       "    </tr>\n",
       "  </thead>\n",
       "  <tbody>\n",
       "    <tr>\n",
       "      <th>San Ramon</th>\n",
       "      <td>12.92</td>\n",
       "      <td>-85.84</td>\n",
       "    </tr>\n",
       "    <tr>\n",
       "      <th>Kazanskaya</th>\n",
       "      <td>45.41</td>\n",
       "      <td>40.44</td>\n",
       "    </tr>\n",
       "    <tr>\n",
       "      <th>Don Luan</th>\n",
       "      <td>11.53</td>\n",
       "      <td>106.92</td>\n",
       "    </tr>\n",
       "    <tr>\n",
       "      <th>Yinchuan</th>\n",
       "      <td>38.48</td>\n",
       "      <td>106.21</td>\n",
       "    </tr>\n",
       "    <tr>\n",
       "      <th>Kolpino</th>\n",
       "      <td>59.70</td>\n",
       "      <td>30.79</td>\n",
       "    </tr>\n",
       "  </tbody>\n",
       "</table>\n",
       "</div>"
      ],
      "text/plain": [
       "            Lat in Northern Hemisph  Lng in Northern Hemisph\n",
       "City                                                        \n",
       "San Ramon                     12.92                   -85.84\n",
       "Kazanskaya                    45.41                    40.44\n",
       "Don Luan                      11.53                   106.92\n",
       "Yinchuan                      38.48                   106.21\n",
       "Kolpino                       59.70                    30.79"
      ]
     },
     "execution_count": 21,
     "metadata": {},
     "output_type": "execute_result"
    }
   ],
   "source": [
    "citiesinNorthernH1 = pd.DataFrame({\n",
    "    \"Lat in Northern Hemisph\": citiesinNorthernH, \"Lng in Northern Hemisph\":northern_hemisph})\n",
    "\n",
    "citiesinNorthernH1.head()"
   ]
  },
  {
   "cell_type": "code",
   "execution_count": 22,
   "metadata": {},
   "outputs": [],
   "source": [
    "#Exporting Northern Hemisphere Data in a CSV:\n",
    "negativelatinN.to_csv('negativelatinN.csv')\n",
    "\n",
    "#Exporting Northern Hemisphere Data with only Latitude and Longitude in a CSV:\n",
    "citiesinNorthernH1.to_csv('citiesinNorthernH1.csv')\n"
   ]
  },
  {
   "cell_type": "markdown",
   "metadata": {},
   "source": [
    "# Displaying Plots of Northern/Southern Hemispheres"
   ]
  },
  {
   "cell_type": "code",
   "execution_count": 23,
   "metadata": {},
   "outputs": [],
   "source": [
    "#Defining Linear Regression\n",
    "def LinearRegression(x,y):\n",
    "\n",
    "    (slope,intercept) = linregress(x,y)\n",
    "    regress_form = x * slope + intercept\n",
    "    equation_line = \"y = \" + str(slope) + \"x +\" + str(intercept)\n",
    "    plt.annotate(equation_line, fontsize =15, color=\"red\")"
   ]
  },
  {
   "cell_type": "markdown",
   "metadata": {},
   "source": [
    "####  Northern Hemisphere - Max Temp vs. Latitude Linear Regression"
   ]
  },
  {
   "cell_type": "code",
   "execution_count": 24,
   "metadata": {},
   "outputs": [
    {
     "data": {
      "image/png": "[encoded data removed]",
      "text/plain": [
       "<Figure size 432x288 with 1 Axes>"
      ]
     },
     "metadata": {
      "needs_background": "light"
     },
     "output_type": "display_data"
    }
   ],
   "source": [
    "plt.title(\"Northern Hemisphere Latitude vs. Max Temperature(F)\")\n",
    "plt.xlabel(\"Latitude\")\n",
    "plt.ylabel (\"Max Temperature(F)\")\n",
    "plt.grid()\n",
    "\n",
    "plt.scatter(negativelatinN[\"Lat\"], negativelatinN[\"Max Temp\"], marker = \"o\")\n",
    "plt.savefig(\"NorthernHemisphereMaxTemperaturevs.Latitude.png\")\n",
    "plt.show()"
   ]
  },
  {
   "cell_type": "markdown",
   "metadata": {},
   "source": [
    "####  Southern Hemisphere - Max Temp vs. Latitude Linear Regression"
   ]
  },
  {
   "cell_type": "code",
   "execution_count": 25,
   "metadata": {},
   "outputs": [
    {
     "data": {
      "image/png": "[encoded data removed]",
      "text/plain": [
       "<Figure size 432x288 with 1 Axes>"
      ]
     },
     "metadata": {
      "needs_background": "light"
     },
     "output_type": "display_data"
    }
   ],
   "source": [
    "plt.title(\"Southern Hemisphere Latitude vs. Max Temperature(F)\")\n",
    "plt.xlabel(\"Latitude\")\n",
    "plt.ylabel (\"Max Temperature(F)\")\n",
    "plt.grid()\n",
    "\n",
    "plt.scatter(negativelat[\"Lat\"], negativelat[\"Max Temp\"], marker = \"o\")\n",
    "plt.savefig(\"SouthernHemisphereMaxTemperaturevs.Latitude.png\")\n",
    "plt.show()"
   ]
  },
  {
   "cell_type": "markdown",
   "metadata": {},
   "source": [
    "####  Northern Hemisphere - Humidity (%) vs. Latitude Linear Regression"
   ]
  },
  {
   "cell_type": "code",
   "execution_count": 26,
   "metadata": {},
   "outputs": [
    {
     "data": {
      "image/png": "[encoded data removed]",
      "text/plain": [
       "<Figure size 432x288 with 1 Axes>"
      ]
     },
     "metadata": {
      "needs_background": "light"
     },
     "output_type": "display_data"
    }
   ],
   "source": [
    "plt.title(\"Northern Hemisphere Latitude vs. Humidity(%)\")\n",
    "plt.xlabel(\"Latitude\")\n",
    "plt.ylabel (\"Humidity(%)\")\n",
    "plt.grid()\n",
    "\n",
    "plt.scatter(negativelatinN[\"Lat\"], negativelatinN[\"Humidity\"], marker = \"o\")\n",
    "plt.savefig(\"NorthernHemispherevs.Latitude.png\")\n",
    "plt.show()"
   ]
  },
  {
   "cell_type": "markdown",
   "metadata": {},
   "source": [
    "####  Southern Hemisphere - Humidity (%) vs. Latitude Linear Regression"
   ]
  },
  {
   "cell_type": "code",
   "execution_count": 27,
   "metadata": {},
   "outputs": [
    {
     "data": {
      "image/png": "[encoded data removed]",
      "text/plain": [
       "<Figure size 432x288 with 1 Axes>"
      ]
     },
     "metadata": {
      "needs_background": "light"
     },
     "output_type": "display_data"
    }
   ],
   "source": [
    "plt.title(\"Southern Hemisphere Latitude vs. Humidity(%)\")\n",
    "plt.xlabel(\"Latitude\")\n",
    "plt.ylabel (\"Humidity(%)\")\n",
    "plt.grid()\n",
    "\n",
    "plt.scatter(negativelat[\"Lat\"], negativelat[\"Humidity\"], marker = \"o\")\n",
    "plt.savefig(\"SouthernHemisphereHumidityvs.Latitude.png\")\n",
    "plt.show()"
   ]
  },
  {
   "cell_type": "markdown",
   "metadata": {},
   "source": [
    "####  Northern Hemisphere - Cloudiness (%) vs. Latitude Linear Regression"
   ]
  },
  {
   "cell_type": "code",
   "execution_count": 28,
   "metadata": {},
   "outputs": [
    {
     "data": {
      "image/png": "[encoded data removed]",
      "text/plain": [
       "<Figure size 432x288 with 1 Axes>"
      ]
     },
     "metadata": {
      "needs_background": "light"
     },
     "output_type": "display_data"
    }
   ],
   "source": [
    "plt.title(\"Northern Hemisphere Latitude vs. Cloudiness(%)\")\n",
    "plt.xlabel(\"Latitude\")\n",
    "plt.ylabel (\"Cloudiness(%)\")\n",
    "plt.grid()\n",
    "\n",
    "plt.scatter(negativelatinN[\"Lat\"], negativelatinN[\"Cloudiness\"], marker = \"o\")\n",
    "plt.savefig(\"NorthernHemisphereCloudinessvs.Latitude.png\")\n",
    "plt.show()"
   ]
  },
  {
   "cell_type": "markdown",
   "metadata": {},
   "source": [
    "####  Southern Hemisphere - Cloudiness (%) vs. Latitude Linear Regression"
   ]
  },
  {
   "cell_type": "code",
   "execution_count": 29,
   "metadata": {},
   "outputs": [
    {
     "data": {
      "image/png": "[encoded data removed]",
      "text/plain": [
       "<Figure size 432x288 with 1 Axes>"
      ]
     },
     "metadata": {
      "needs_background": "light"
     },
     "output_type": "display_data"
    }
   ],
   "source": [
    "plt.title(\"Southern Hemisphere Latitude vs. Cloudiness(%)\")\n",
    "plt.xlabel(\"Latitude\")\n",
    "plt.ylabel (\"Cloudiness(%)\")\n",
    "plt.grid()\n",
    "\n",
    "plt.scatter(negativelat[\"Lat\"], negativelat[\"Cloudiness\"], marker = \"o\")\n",
    "plt.savefig(\"SouthernHemisphereCloudinessvs.Latitude.png\")\n",
    "plt.show()"
   ]
  },
  {
   "cell_type": "markdown",
   "metadata": {},
   "source": [
    "####  Northern Hemisphere - Wind Speed (mph) vs. Latitude Linear Regression"
   ]
  },
  {
   "cell_type": "code",
   "execution_count": 30,
   "metadata": {},
   "outputs": [
    {
     "data": {
      "image/png": "[encoded data removed]",
      "text/plain": [
       "<Figure size 432x288 with 1 Axes>"
      ]
     },
     "metadata": {
      "needs_background": "light"
     },
     "output_type": "display_data"
    }
   ],
   "source": [
    "plt.title(\"Northern Hemisphere Latitude vs. Wind Speed(mph)\")\n",
    "plt.xlabel(\"Latitude\")\n",
    "plt.ylabel (\"Wind Speed(mph)\")\n",
    "plt.grid()\n",
    "\n",
    "plt.scatter(negativelatinN[\"Lat\"], negativelatinN[\"Wind Speed\"], marker = \"o\")\n",
    "plt.savefig(\"NorthernHemisphereWindSpeedvs.Latitude.png\")\n",
    "plt.show()"
   ]
  },
  {
   "cell_type": "markdown",
   "metadata": {},
   "source": [
    "####  Southern Hemisphere - Wind Speed (mph) vs. Latitude Linear Regression"
   ]
  },
  {
   "cell_type": "code",
   "execution_count": 31,
   "metadata": {},
   "outputs": [
    {
     "data": {
      "image/png": "[encoded data removed]",
      "text/plain": [
       "<Figure size 432x288 with 1 Axes>"
      ]
     },
     "metadata": {
      "needs_background": "light"
     },
     "output_type": "display_data"
    }
   ],
   "source": [
    "plt.title(\"Southern Hemisphere Latitude vs. Wind Speed(mph)\")\n",
    "plt.xlabel(\"Latitude\")\n",
    "plt.ylabel (\"Wind Speed(mph)\")\n",
    "plt.grid()\n",
    "\n",
    "\n",
    "\n",
    "plt.scatter(negativelat[\"Lat\"], negativelat[\"Wind Speed\"], marker = \"o\")\n",
    "\n",
    "plt.savefig(\"SouthernHemisphereWindSpeedvs.Latitude.png\")\n",
    "plt.show()\n",
    "\n"
   ]
  },
  {
   "cell_type": "markdown",
   "metadata": {},
   "source": [
    "3 Obersvable Trends based on the Data:\n",
    "1) The maximum wind speed of the cities in the Northern Hemisphere is greater than the maximum wind speed in the Southern Hemisphere.\n",
    "2) There is a higher percentage of cloudiness in the cities in Northern Hemisphere than in the Southern Hemisphere\n",
    "3) The humidity is more widely dispersed out in the cities in the Northern Hemisphere than in the Southern Hemisphere."
   ]
  }
 ],
 "metadata": {
  "kernelspec": {
   "display_name": "Python 3",
   "language": "python",
   "name": "python3"
  },
  "language_info": {
   "codemirror_mode": {
    "name": "ipython",
    "version": 3
   },
   "file_extension": ".py",
   "mimetype": "text/x-python",
   "name": "python",
   "nbconvert_exporter": "python",
   "pygments_lexer": "ipython3",
   "version": "3.6.9"
  }
 },
 "nbformat": 4,
 "nbformat_minor": 2
}
